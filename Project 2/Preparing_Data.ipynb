{
 "cells": [
  {
   "cell_type": "code",
   "execution_count": 1,
   "metadata": {},
   "outputs": [],
   "source": [
    "# Import statements for all the packages needed\n",
    "\n",
    "import numpy as np\n",
    "import pandas as pd\n",
    "import matplotlib.pyplot as plt\n",
    "import seaborn as sns\n",
    "% matplotlib inline\n"
   ]
  },
  {
   "cell_type": "code",
   "execution_count": 2,
   "metadata": {
    "scrolled": true
   },
   "outputs": [
    {
     "data": {
      "text/html": [
       "<div>\n",
       "<style scoped>\n",
       "    .dataframe tbody tr th:only-of-type {\n",
       "        vertical-align: middle;\n",
       "    }\n",
       "\n",
       "    .dataframe tbody tr th {\n",
       "        vertical-align: top;\n",
       "    }\n",
       "\n",
       "    .dataframe thead th {\n",
       "        text-align: right;\n",
       "    }\n",
       "</style>\n",
       "<table border=\"1\" class=\"dataframe\">\n",
       "  <thead>\n",
       "    <tr style=\"text-align: right;\">\n",
       "      <th></th>\n",
       "      <th>country</th>\n",
       "      <th>2007</th>\n",
       "      <th>2008</th>\n",
       "      <th>2009</th>\n",
       "      <th>2010</th>\n",
       "      <th>2011</th>\n",
       "      <th>2012</th>\n",
       "      <th>2013</th>\n",
       "      <th>2014</th>\n",
       "      <th>2015</th>\n",
       "      <th>2016</th>\n",
       "      <th>2017</th>\n",
       "      <th>2018</th>\n",
       "      <th>2019</th>\n",
       "    </tr>\n",
       "  </thead>\n",
       "  <tbody>\n",
       "    <tr>\n",
       "      <th>0</th>\n",
       "      <td>Afghanistan</td>\n",
       "      <td>1460</td>\n",
       "      <td>1480</td>\n",
       "      <td>1760</td>\n",
       "      <td>1960</td>\n",
       "      <td>1910</td>\n",
       "      <td>2080</td>\n",
       "      <td>2120</td>\n",
       "      <td>2100</td>\n",
       "      <td>2070</td>\n",
       "      <td>2060</td>\n",
       "      <td>2060</td>\n",
       "      <td>2030</td>\n",
       "      <td>2070</td>\n",
       "    </tr>\n",
       "    <tr>\n",
       "      <th>1</th>\n",
       "      <td>Angola</td>\n",
       "      <td>6920</td>\n",
       "      <td>7820</td>\n",
       "      <td>7750</td>\n",
       "      <td>7690</td>\n",
       "      <td>7680</td>\n",
       "      <td>8040</td>\n",
       "      <td>8140</td>\n",
       "      <td>8240</td>\n",
       "      <td>8040</td>\n",
       "      <td>7570</td>\n",
       "      <td>7310</td>\n",
       "      <td>6930</td>\n",
       "      <td>6670</td>\n",
       "    </tr>\n",
       "    <tr>\n",
       "      <th>2</th>\n",
       "      <td>Albania</td>\n",
       "      <td>9180</td>\n",
       "      <td>9940</td>\n",
       "      <td>10.3k</td>\n",
       "      <td>10.8k</td>\n",
       "      <td>11.1k</td>\n",
       "      <td>11.3k</td>\n",
       "      <td>11.4k</td>\n",
       "      <td>11.6k</td>\n",
       "      <td>11.9k</td>\n",
       "      <td>12.3k</td>\n",
       "      <td>12.8k</td>\n",
       "      <td>13.4k</td>\n",
       "      <td>13.7k</td>\n",
       "    </tr>\n",
       "    <tr>\n",
       "      <th>3</th>\n",
       "      <td>Andorra</td>\n",
       "      <td>48.6k</td>\n",
       "      <td>46.3k</td>\n",
       "      <td>46.7k</td>\n",
       "      <td>43.6k</td>\n",
       "      <td>46.9k</td>\n",
       "      <td>46.9k</td>\n",
       "      <td>48.9k</td>\n",
       "      <td>50.2k</td>\n",
       "      <td>52.1k</td>\n",
       "      <td>53.9k</td>\n",
       "      <td>55.6k</td>\n",
       "      <td>57.6k</td>\n",
       "      <td>59.6k</td>\n",
       "    </tr>\n",
       "    <tr>\n",
       "      <th>4</th>\n",
       "      <td>United Arab Emirates</td>\n",
       "      <td>76.6k</td>\n",
       "      <td>68.8k</td>\n",
       "      <td>58.4k</td>\n",
       "      <td>54.9k</td>\n",
       "      <td>56.1k</td>\n",
       "      <td>57.4k</td>\n",
       "      <td>59.9k</td>\n",
       "      <td>62.4k</td>\n",
       "      <td>65.2k</td>\n",
       "      <td>66.5k</td>\n",
       "      <td>67.2k</td>\n",
       "      <td>67k</td>\n",
       "      <td>67.1k</td>\n",
       "    </tr>\n",
       "  </tbody>\n",
       "</table>\n",
       "</div>"
      ],
      "text/plain": [
       "                country   2007   2008   2009   2010   2011   2012   2013  \\\n",
       "0           Afghanistan   1460   1480   1760   1960   1910   2080   2120   \n",
       "1                Angola   6920   7820   7750   7690   7680   8040   8140   \n",
       "2               Albania   9180   9940  10.3k  10.8k  11.1k  11.3k  11.4k   \n",
       "3               Andorra  48.6k  46.3k  46.7k  43.6k  46.9k  46.9k  48.9k   \n",
       "4  United Arab Emirates  76.6k  68.8k  58.4k  54.9k  56.1k  57.4k  59.9k   \n",
       "\n",
       "    2014   2015   2016   2017   2018   2019  \n",
       "0   2100   2070   2060   2060   2030   2070  \n",
       "1   8240   8040   7570   7310   6930   6670  \n",
       "2  11.6k  11.9k  12.3k  12.8k  13.4k  13.7k  \n",
       "3  50.2k  52.1k  53.9k  55.6k  57.6k  59.6k  \n",
       "4  62.4k  65.2k  66.5k  67.2k    67k  67.1k  "
      ]
     },
     "execution_count": 2,
     "metadata": {},
     "output_type": "execute_result"
    }
   ],
   "source": [
    "# import the income table and look at some of the data to see if it needs transforming or cleaning\n",
    "income_df = pd.read_csv('income_per_person.csv',usecols=['country','2007','2008','2009','2010','2011','2012','2013','2014','2015','2016','2017','2018','2019'])\n",
    "income_df.head()"
   ]
  },
  {
   "cell_type": "markdown",
   "metadata": {},
   "source": [
    "We've only brought in data from 2007-2019, it's possible there are some rows will null data so we'll use `dropna` and `thresh=12` to remove those rows with 12 null values so there's at least two data points for each country. We'll use inplace to make these changes to the `income_df`."
   ]
  },
  {
   "cell_type": "code",
   "execution_count": 3,
   "metadata": {},
   "outputs": [
    {
     "name": "stdout",
     "output_type": "stream",
     "text": [
      "<class 'pandas.core.frame.DataFrame'>\n",
      "Int64Index: 195 entries, 0 to 194\n",
      "Data columns (total 14 columns):\n",
      "country    195 non-null object\n",
      "2007       195 non-null object\n",
      "2008       195 non-null object\n",
      "2009       195 non-null object\n",
      "2010       195 non-null object\n",
      "2011       195 non-null object\n",
      "2012       195 non-null object\n",
      "2013       195 non-null object\n",
      "2014       195 non-null object\n",
      "2015       195 non-null object\n",
      "2016       195 non-null object\n",
      "2017       195 non-null object\n",
      "2018       195 non-null object\n",
      "2019       195 non-null object\n",
      "dtypes: object(14)\n",
      "memory usage: 22.9+ KB\n"
     ]
    }
   ],
   "source": [
    "income_df.dropna(thresh=12,inplace=True)\n",
    "#inspect data using info\n",
    "income_df.info()"
   ]
  },
  {
   "cell_type": "markdown",
   "metadata": {},
   "source": [
    "Lastly in order to analyse this data we need to unpivot the table so we have three columns, the country, year and average income. We can do this by using \n",
    "`melt`."
   ]
  },
  {
   "cell_type": "code",
   "execution_count": 4,
   "metadata": {},
   "outputs": [
    {
     "name": "stdout",
     "output_type": "stream",
     "text": [
      "<class 'pandas.core.frame.DataFrame'>\n",
      "RangeIndex: 2535 entries, 0 to 2534\n",
      "Data columns (total 3 columns):\n",
      "country    2535 non-null object\n",
      "year       2535 non-null object\n",
      "income     2535 non-null object\n",
      "dtypes: object(3)\n",
      "memory usage: 59.5+ KB\n"
     ]
    }
   ],
   "source": [
    "income_df_v2 = income_df.melt(id_vars=['country'], var_name='year', value_name='income')\n",
    "#inspect data to check this has worked\n",
    "income_df_v2.info()"
   ]
  },
  {
   "cell_type": "markdown",
   "metadata": {},
   "source": [
    "We can see that the table has unpivoted as we expect. However we need to change the datatype from `object` to `int` so we can perform calculations."
   ]
  },
  {
   "cell_type": "code",
   "execution_count": 5,
   "metadata": {},
   "outputs": [],
   "source": [
    "income_df_v2['year']=income_df_v2['year'].astype(int)"
   ]
  },
  {
   "cell_type": "markdown",
   "metadata": {},
   "source": [
    "Next we will do the exact same data preparation on all the other tables of data we need."
   ]
  },
  {
   "cell_type": "code",
   "execution_count": 6,
   "metadata": {},
   "outputs": [
    {
     "data": {
      "text/html": [
       "<div>\n",
       "<style scoped>\n",
       "    .dataframe tbody tr th:only-of-type {\n",
       "        vertical-align: middle;\n",
       "    }\n",
       "\n",
       "    .dataframe tbody tr th {\n",
       "        vertical-align: top;\n",
       "    }\n",
       "\n",
       "    .dataframe thead th {\n",
       "        text-align: right;\n",
       "    }\n",
       "</style>\n",
       "<table border=\"1\" class=\"dataframe\">\n",
       "  <thead>\n",
       "    <tr style=\"text-align: right;\">\n",
       "      <th></th>\n",
       "      <th>country</th>\n",
       "      <th>2007</th>\n",
       "      <th>2008</th>\n",
       "      <th>2009</th>\n",
       "      <th>2010</th>\n",
       "      <th>2011</th>\n",
       "      <th>2012</th>\n",
       "      <th>2013</th>\n",
       "      <th>2014</th>\n",
       "      <th>2015</th>\n",
       "      <th>2016</th>\n",
       "      <th>2017</th>\n",
       "      <th>2018</th>\n",
       "      <th>2019</th>\n",
       "    </tr>\n",
       "  </thead>\n",
       "  <tbody>\n",
       "    <tr>\n",
       "      <th>0</th>\n",
       "      <td>Afghanistan</td>\n",
       "      <td>58.5</td>\n",
       "      <td>59.2</td>\n",
       "      <td>59.9</td>\n",
       "      <td>60.5</td>\n",
       "      <td>61.0</td>\n",
       "      <td>61.4</td>\n",
       "      <td>61.9</td>\n",
       "      <td>61.9</td>\n",
       "      <td>61.9</td>\n",
       "      <td>62.0</td>\n",
       "      <td>62.9</td>\n",
       "      <td>62.7</td>\n",
       "      <td>63.3</td>\n",
       "    </tr>\n",
       "    <tr>\n",
       "      <th>1</th>\n",
       "      <td>Angola</td>\n",
       "      <td>58.0</td>\n",
       "      <td>58.8</td>\n",
       "      <td>59.5</td>\n",
       "      <td>60.2</td>\n",
       "      <td>60.8</td>\n",
       "      <td>61.4</td>\n",
       "      <td>62.1</td>\n",
       "      <td>63.0</td>\n",
       "      <td>63.5</td>\n",
       "      <td>63.9</td>\n",
       "      <td>64.2</td>\n",
       "      <td>64.6</td>\n",
       "      <td>65.1</td>\n",
       "    </tr>\n",
       "    <tr>\n",
       "      <th>2</th>\n",
       "      <td>Albania</td>\n",
       "      <td>77.5</td>\n",
       "      <td>77.6</td>\n",
       "      <td>78.0</td>\n",
       "      <td>78.1</td>\n",
       "      <td>78.1</td>\n",
       "      <td>78.2</td>\n",
       "      <td>78.3</td>\n",
       "      <td>78.2</td>\n",
       "      <td>78.1</td>\n",
       "      <td>78.2</td>\n",
       "      <td>78.3</td>\n",
       "      <td>78.4</td>\n",
       "      <td>78.5</td>\n",
       "    </tr>\n",
       "    <tr>\n",
       "      <th>3</th>\n",
       "      <td>Andorra</td>\n",
       "      <td>81.7</td>\n",
       "      <td>81.8</td>\n",
       "      <td>81.8</td>\n",
       "      <td>81.8</td>\n",
       "      <td>81.9</td>\n",
       "      <td>81.9</td>\n",
       "      <td>82.0</td>\n",
       "      <td>82.0</td>\n",
       "      <td>82.0</td>\n",
       "      <td>82.1</td>\n",
       "      <td>82.1</td>\n",
       "      <td>82.1</td>\n",
       "      <td>82.2</td>\n",
       "    </tr>\n",
       "    <tr>\n",
       "      <th>4</th>\n",
       "      <td>United Arab Emirates</td>\n",
       "      <td>70.0</td>\n",
       "      <td>70.4</td>\n",
       "      <td>70.6</td>\n",
       "      <td>70.8</td>\n",
       "      <td>71.0</td>\n",
       "      <td>71.2</td>\n",
       "      <td>71.6</td>\n",
       "      <td>73.0</td>\n",
       "      <td>73.2</td>\n",
       "      <td>73.4</td>\n",
       "      <td>73.5</td>\n",
       "      <td>73.7</td>\n",
       "      <td>73.9</td>\n",
       "    </tr>\n",
       "  </tbody>\n",
       "</table>\n",
       "</div>"
      ],
      "text/plain": [
       "                country  2007  2008  2009  2010  2011  2012  2013  2014  2015  \\\n",
       "0           Afghanistan  58.5  59.2  59.9  60.5  61.0  61.4  61.9  61.9  61.9   \n",
       "1                Angola  58.0  58.8  59.5  60.2  60.8  61.4  62.1  63.0  63.5   \n",
       "2               Albania  77.5  77.6  78.0  78.1  78.1  78.2  78.3  78.2  78.1   \n",
       "3               Andorra  81.7  81.8  81.8  81.8  81.9  81.9  82.0  82.0  82.0   \n",
       "4  United Arab Emirates  70.0  70.4  70.6  70.8  71.0  71.2  71.6  73.0  73.2   \n",
       "\n",
       "   2016  2017  2018  2019  \n",
       "0  62.0  62.9  62.7  63.3  \n",
       "1  63.9  64.2  64.6  65.1  \n",
       "2  78.2  78.3  78.4  78.5  \n",
       "3  82.1  82.1  82.1  82.2  \n",
       "4  73.4  73.5  73.7  73.9  "
      ]
     },
     "execution_count": 6,
     "metadata": {},
     "output_type": "execute_result"
    }
   ],
   "source": [
    "life_expectancy_df = pd.read_csv('life_expectancy.csv',usecols=['country','2007','2008','2009','2010','2011','2012','2013','2014','2015','2016','2017','2018','2019'])\n",
    "life_expectancy_df.head()"
   ]
  },
  {
   "cell_type": "code",
   "execution_count": 7,
   "metadata": {},
   "outputs": [
    {
     "name": "stdout",
     "output_type": "stream",
     "text": [
      "<class 'pandas.core.frame.DataFrame'>\n",
      "Int64Index: 195 entries, 0 to 194\n",
      "Data columns (total 14 columns):\n",
      "country    195 non-null object\n",
      "2007       195 non-null float64\n",
      "2008       195 non-null float64\n",
      "2009       195 non-null float64\n",
      "2010       195 non-null float64\n",
      "2011       195 non-null float64\n",
      "2012       195 non-null float64\n",
      "2013       195 non-null float64\n",
      "2014       195 non-null float64\n",
      "2015       195 non-null float64\n",
      "2016       195 non-null float64\n",
      "2017       195 non-null float64\n",
      "2018       195 non-null float64\n",
      "2019       195 non-null float64\n",
      "dtypes: float64(13), object(1)\n",
      "memory usage: 22.9+ KB\n"
     ]
    }
   ],
   "source": [
    "life_expectancy_df.dropna(thresh=12,inplace=True)\n",
    "life_expectancy_df.info()"
   ]
  },
  {
   "cell_type": "code",
   "execution_count": 8,
   "metadata": {},
   "outputs": [
    {
     "name": "stdout",
     "output_type": "stream",
     "text": [
      "<class 'pandas.core.frame.DataFrame'>\n",
      "RangeIndex: 2535 entries, 0 to 2534\n",
      "Data columns (total 3 columns):\n",
      "country            2535 non-null object\n",
      "year               2535 non-null object\n",
      "life_expectancy    2535 non-null float64\n",
      "dtypes: float64(1), object(2)\n",
      "memory usage: 59.5+ KB\n"
     ]
    }
   ],
   "source": [
    "life_expectancy_df_v2 = life_expectancy_df.melt(id_vars=['country'], var_name='year', value_name='life_expectancy')\n",
    "life_expectancy_df_v2.info()"
   ]
  },
  {
   "cell_type": "code",
   "execution_count": 9,
   "metadata": {},
   "outputs": [],
   "source": [
    "life_expectancy_df_v2['year']=life_expectancy_df_v2['year'].astype(int)"
   ]
  },
  {
   "cell_type": "code",
   "execution_count": 10,
   "metadata": {},
   "outputs": [
    {
     "data": {
      "text/html": [
       "<div>\n",
       "<style scoped>\n",
       "    .dataframe tbody tr th:only-of-type {\n",
       "        vertical-align: middle;\n",
       "    }\n",
       "\n",
       "    .dataframe tbody tr th {\n",
       "        vertical-align: top;\n",
       "    }\n",
       "\n",
       "    .dataframe thead th {\n",
       "        text-align: right;\n",
       "    }\n",
       "</style>\n",
       "<table border=\"1\" class=\"dataframe\">\n",
       "  <thead>\n",
       "    <tr style=\"text-align: right;\">\n",
       "      <th></th>\n",
       "      <th>country</th>\n",
       "      <th>2007</th>\n",
       "      <th>2008</th>\n",
       "      <th>2009</th>\n",
       "      <th>2010</th>\n",
       "      <th>2011</th>\n",
       "      <th>2012</th>\n",
       "      <th>2013</th>\n",
       "      <th>2014</th>\n",
       "      <th>2015</th>\n",
       "      <th>2016</th>\n",
       "      <th>2017</th>\n",
       "      <th>2018</th>\n",
       "      <th>2019</th>\n",
       "    </tr>\n",
       "  </thead>\n",
       "  <tbody>\n",
       "    <tr>\n",
       "      <th>0</th>\n",
       "      <td>Afghanistan</td>\n",
       "      <td>26.6</td>\n",
       "      <td>26.9</td>\n",
       "      <td>27.3</td>\n",
       "      <td>27.6</td>\n",
       "      <td>27.4</td>\n",
       "      <td>27.4</td>\n",
       "      <td>27.4</td>\n",
       "      <td>27.4</td>\n",
       "      <td>27.4</td>\n",
       "      <td>27.7</td>\n",
       "      <td>27.8</td>\n",
       "      <td>27.9</td>\n",
       "      <td>27.2</td>\n",
       "    </tr>\n",
       "    <tr>\n",
       "      <th>1</th>\n",
       "      <td>Angola</td>\n",
       "      <td>35.5</td>\n",
       "      <td>37.3</td>\n",
       "      <td>36.5</td>\n",
       "      <td>35.7</td>\n",
       "      <td>34.9</td>\n",
       "      <td>34.1</td>\n",
       "      <td>33.5</td>\n",
       "      <td>32.8</td>\n",
       "      <td>32.2</td>\n",
       "      <td>31.6</td>\n",
       "      <td>30.9</td>\n",
       "      <td>30.4</td>\n",
       "      <td>30.0</td>\n",
       "    </tr>\n",
       "    <tr>\n",
       "      <th>2</th>\n",
       "      <td>Albania</td>\n",
       "      <td>11.8</td>\n",
       "      <td>14.1</td>\n",
       "      <td>16.4</td>\n",
       "      <td>16.3</td>\n",
       "      <td>16.1</td>\n",
       "      <td>15.9</td>\n",
       "      <td>15.7</td>\n",
       "      <td>18.8</td>\n",
       "      <td>21.8</td>\n",
       "      <td>24.8</td>\n",
       "      <td>27.9</td>\n",
       "      <td>28.6</td>\n",
       "      <td>29.5</td>\n",
       "    </tr>\n",
       "    <tr>\n",
       "      <th>3</th>\n",
       "      <td>Andorra</td>\n",
       "      <td>33.3</td>\n",
       "      <td>33.7</td>\n",
       "      <td>33.9</td>\n",
       "      <td>42.9</td>\n",
       "      <td>51.8</td>\n",
       "      <td>50.0</td>\n",
       "      <td>47.6</td>\n",
       "      <td>44.3</td>\n",
       "      <td>39.3</td>\n",
       "      <td>41.1</td>\n",
       "      <td>42.9</td>\n",
       "      <td>44.6</td>\n",
       "      <td>46.4</td>\n",
       "    </tr>\n",
       "    <tr>\n",
       "      <th>4</th>\n",
       "      <td>United Arab Emirates</td>\n",
       "      <td>5.0</td>\n",
       "      <td>5.0</td>\n",
       "      <td>5.0</td>\n",
       "      <td>5.0</td>\n",
       "      <td>5.0</td>\n",
       "      <td>17.5</td>\n",
       "      <td>19.2</td>\n",
       "      <td>20.8</td>\n",
       "      <td>22.5</td>\n",
       "      <td>29.4</td>\n",
       "      <td>36.3</td>\n",
       "      <td>43.1</td>\n",
       "      <td>50.0</td>\n",
       "    </tr>\n",
       "  </tbody>\n",
       "</table>\n",
       "</div>"
      ],
      "text/plain": [
       "                country  2007  2008  2009  2010  2011  2012  2013  2014  2015  \\\n",
       "0           Afghanistan  26.6  26.9  27.3  27.6  27.4  27.4  27.4  27.4  27.4   \n",
       "1                Angola  35.5  37.3  36.5  35.7  34.9  34.1  33.5  32.8  32.2   \n",
       "2               Albania  11.8  14.1  16.4  16.3  16.1  15.9  15.7  18.8  21.8   \n",
       "3               Andorra  33.3  33.7  33.9  42.9  51.8  50.0  47.6  44.3  39.3   \n",
       "4  United Arab Emirates   5.0   5.0   5.0   5.0   5.0  17.5  19.2  20.8  22.5   \n",
       "\n",
       "   2016  2017  2018  2019  \n",
       "0  27.7  27.8  27.9  27.2  \n",
       "1  31.6  30.9  30.4  30.0  \n",
       "2  24.8  27.9  28.6  29.5  \n",
       "3  41.1  42.9  44.6  46.4  \n",
       "4  29.4  36.3  43.1  50.0  "
      ]
     },
     "execution_count": 10,
     "metadata": {},
     "output_type": "execute_result"
    }
   ],
   "source": [
    "women_in_parliment_df = pd.read_csv('women_in_parliment.csv',usecols=['country','2007','2008','2009','2010','2011','2012','2013','2014','2015','2016','2017','2018','2019'])\n",
    "women_in_parliment_df.head()"
   ]
  },
  {
   "cell_type": "code",
   "execution_count": 11,
   "metadata": {},
   "outputs": [
    {
     "name": "stdout",
     "output_type": "stream",
     "text": [
      "<class 'pandas.core.frame.DataFrame'>\n",
      "Int64Index: 181 entries, 0 to 192\n",
      "Data columns (total 14 columns):\n",
      "country    181 non-null object\n",
      "2007       181 non-null float64\n",
      "2008       181 non-null float64\n",
      "2009       181 non-null float64\n",
      "2010       181 non-null float64\n",
      "2011       181 non-null float64\n",
      "2012       181 non-null float64\n",
      "2013       181 non-null float64\n",
      "2014       181 non-null float64\n",
      "2015       181 non-null float64\n",
      "2016       181 non-null float64\n",
      "2017       181 non-null float64\n",
      "2018       181 non-null float64\n",
      "2019       181 non-null float64\n",
      "dtypes: float64(13), object(1)\n",
      "memory usage: 21.2+ KB\n"
     ]
    }
   ],
   "source": [
    "women_in_parliment_df.dropna(thresh=12,inplace=True)\n",
    "women_in_parliment_df.info()"
   ]
  },
  {
   "cell_type": "code",
   "execution_count": 12,
   "metadata": {},
   "outputs": [
    {
     "name": "stdout",
     "output_type": "stream",
     "text": [
      "<class 'pandas.core.frame.DataFrame'>\n",
      "RangeIndex: 2535 entries, 0 to 2534\n",
      "Data columns (total 3 columns):\n",
      "country            2535 non-null object\n",
      "year               2535 non-null int64\n",
      "life_expectancy    2535 non-null float64\n",
      "dtypes: float64(1), int64(1), object(1)\n",
      "memory usage: 59.5+ KB\n"
     ]
    }
   ],
   "source": [
    "women_in_parliment_df_v2 = women_in_parliment_df.melt(id_vars=['country'], var_name='year', value_name='women_in_parliment')\n",
    "life_expectancy_df_v2.info()\n"
   ]
  },
  {
   "cell_type": "code",
   "execution_count": 13,
   "metadata": {},
   "outputs": [],
   "source": [
    "women_in_parliment_df_v2['year']=women_in_parliment_df_v2['year'].astype(int)"
   ]
  },
  {
   "cell_type": "markdown",
   "metadata": {},
   "source": [
    "Now we have the data in the format we want we can save these tables to a csv file."
   ]
  },
  {
   "cell_type": "code",
   "execution_count": 14,
   "metadata": {},
   "outputs": [],
   "source": [
    "income_df_v2.to_csv('income_clean_df.csv', index=False)\n",
    "life_expectancy_df_v2.to_csv('life_expectancy_clean.csv', index=False)\n",
    "women_in_parliment_df_v2.to_csv('women_in_parliment_clean.csv', index=False)"
   ]
  }
 ],
 "metadata": {
  "kernelspec": {
   "display_name": "Python 3",
   "language": "python",
   "name": "python3"
  },
  "language_info": {
   "codemirror_mode": {
    "name": "ipython",
    "version": 3
   },
   "file_extension": ".py",
   "mimetype": "text/x-python",
   "name": "python",
   "nbconvert_exporter": "python",
   "pygments_lexer": "ipython3",
   "version": "3.6.3"
  }
 },
 "nbformat": 4,
 "nbformat_minor": 2
}
