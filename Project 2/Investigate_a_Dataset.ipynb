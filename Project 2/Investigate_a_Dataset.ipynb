{
 "cells": [
  {
   "cell_type": "markdown",
   "metadata": {},
   "source": [
    "# Project: Investigating National Happiness- [Gapminder]\n",
    "\n",
    "## Table of Contents\n",
    "<ul>\n",
    "<li><a href=\"#intro\">Introduction</a></li>\n",
    "<li><a href=\"#wrangling\">Data Wrangling</a></li>\n",
    "<li><a href=\"#eda\">Exploratory Data Analysis</a></li>\n",
    "<li><a href=\"#conclusions\">Conclusions</a></li>\n",
    "</ul>"
   ]
  },
  {
   "cell_type": "markdown",
   "metadata": {},
   "source": [
    "<a id='intro'></a>\n",
    "## Introduction\n",
    "\n",
    "### Dataset Description \n",
    ">This project will look at a nations average happiness score and compare this to a few variables. The happiness score of a nation is calculated by taking the average answer to the following: *''Please imagine a ladder, with steps numbered from 0 at the bottom to 10 at the top. The top of the ladder represents the best possible life for you and the bottom the worst possible life for you. On which step of the lader would you say you personally feel you stand on at this time?* This is sometimes referred to as Cantril life ladder. Gapminder converted average happiness scores to a scale from 0 to 100 for easy comparison to percentage.\n",
    "\n",
    "> The variables we will compare against are life expectancy in years, income, mobile phones per 100 people and percent of women in parliments. Each vaiable is tracked accross a number of years with data collected from multiple countries. Years are recorded as separate columns with another column for countries. \n",
    "\n",
    "\n",
    "### Dataset Sources \n",
    "\n",
    "> **Happiness**:<http://gapm.io/dhapiscore_whr>\n",
    "\n",
    "> **Income**:<http://gapm.io/dgdppc>  \n",
    "This is the gross domestic product per person adjusted for differences in purchasing power recorded in international dollars at the fixed 2011 prices, PPP based on 2011 ICP.\n",
    "\n",
    "> **Life Expectancy**:<http://gapm.io/ilex>  \n",
    "The average number of years a newborn child would live if current mortality rates stay the same.\n",
    "\n",
    "> **Mobiles Per 100 People**:<https://data.worldbank.org/indicator/IT.CEL.SETS.P2>  \n",
    "The indicator applies to all mobile celular subscriptions that offer voice communications.\n",
    "\n",
    "> **Percent of Women in Parliments**:<http://gapm.io/dwparl>  \n",
    "Percent of national parlimentary seats help by women this combines lower and upper houses.\n",
    "\n",
    "> **Regions**:https://www.gapminder.org/fw/four-regions/ \n",
    "List of countries used by Gapminder with the region they fall into.\n",
    "\n",
    "\n",
    "### Questions for Analysis\n",
    ">**Question 1:** How has the average happiness score changed through the years? \n",
    "\n",
    ">**Quesiton 2:** In 2019 is there a correlation between a nations happiness score and the other variables we are looking at?\n",
    "\n",
    ">**Quesiton 3:** Comparing the most recent data to 10 years ago, which countries happiness have improved the most and least?"
   ]
  },
  {
   "cell_type": "code",
   "execution_count": 59,
   "metadata": {},
   "outputs": [],
   "source": [
    "# Start by importing the packages we will need.\n",
    "\n",
    "import numpy as np\n",
    "import pandas as pd\n",
    "import matplotlib.pyplot as plt\n",
    "import seaborn as sns\n",
    "% matplotlib inline\n"
   ]
  },
  {
   "cell_type": "markdown",
   "metadata": {},
   "source": [
    "<a id='wrangling'></a>\n",
    "## Data Wrangling\n",
    ">We will start by looking at the data set with happiness scores. This is the main variable we will be working with so it makes sense to start here.\n",
    "\n"
   ]
  },
  {
   "cell_type": "code",
   "execution_count": 60,
   "metadata": {
    "scrolled": true
   },
   "outputs": [
    {
     "data": {
      "text/html": [
       "<div>\n",
       "<style scoped>\n",
       "    .dataframe tbody tr th:only-of-type {\n",
       "        vertical-align: middle;\n",
       "    }\n",
       "\n",
       "    .dataframe tbody tr th {\n",
       "        vertical-align: top;\n",
       "    }\n",
       "\n",
       "    .dataframe thead th {\n",
       "        text-align: right;\n",
       "    }\n",
       "</style>\n",
       "<table border=\"1\" class=\"dataframe\">\n",
       "  <thead>\n",
       "    <tr style=\"text-align: right;\">\n",
       "      <th></th>\n",
       "      <th>country</th>\n",
       "      <th>2005</th>\n",
       "      <th>2006</th>\n",
       "      <th>2007</th>\n",
       "      <th>2008</th>\n",
       "      <th>2009</th>\n",
       "      <th>2010</th>\n",
       "      <th>2011</th>\n",
       "      <th>2012</th>\n",
       "      <th>2013</th>\n",
       "      <th>2014</th>\n",
       "      <th>2015</th>\n",
       "      <th>2016</th>\n",
       "      <th>2017</th>\n",
       "      <th>2018</th>\n",
       "      <th>2019</th>\n",
       "    </tr>\n",
       "  </thead>\n",
       "  <tbody>\n",
       "    <tr>\n",
       "      <th>0</th>\n",
       "      <td>Afghanistan</td>\n",
       "      <td>NaN</td>\n",
       "      <td>NaN</td>\n",
       "      <td>NaN</td>\n",
       "      <td>37.2</td>\n",
       "      <td>44.0</td>\n",
       "      <td>47.6</td>\n",
       "      <td>38.3</td>\n",
       "      <td>37.8</td>\n",
       "      <td>35.7</td>\n",
       "      <td>31.3</td>\n",
       "      <td>39.8</td>\n",
       "      <td>42.2</td>\n",
       "      <td>26.6</td>\n",
       "      <td>26.9</td>\n",
       "      <td>25.7</td>\n",
       "    </tr>\n",
       "    <tr>\n",
       "      <th>1</th>\n",
       "      <td>Angola</td>\n",
       "      <td>NaN</td>\n",
       "      <td>NaN</td>\n",
       "      <td>NaN</td>\n",
       "      <td>NaN</td>\n",
       "      <td>NaN</td>\n",
       "      <td>NaN</td>\n",
       "      <td>55.9</td>\n",
       "      <td>43.6</td>\n",
       "      <td>39.4</td>\n",
       "      <td>37.9</td>\n",
       "      <td>NaN</td>\n",
       "      <td>NaN</td>\n",
       "      <td>NaN</td>\n",
       "      <td>NaN</td>\n",
       "      <td>NaN</td>\n",
       "    </tr>\n",
       "    <tr>\n",
       "      <th>2</th>\n",
       "      <td>Albania</td>\n",
       "      <td>NaN</td>\n",
       "      <td>NaN</td>\n",
       "      <td>46.3</td>\n",
       "      <td>NaN</td>\n",
       "      <td>54.9</td>\n",
       "      <td>52.7</td>\n",
       "      <td>58.7</td>\n",
       "      <td>55.1</td>\n",
       "      <td>45.5</td>\n",
       "      <td>48.1</td>\n",
       "      <td>46.1</td>\n",
       "      <td>45.1</td>\n",
       "      <td>46.4</td>\n",
       "      <td>50.0</td>\n",
       "      <td>48.8</td>\n",
       "    </tr>\n",
       "    <tr>\n",
       "      <th>3</th>\n",
       "      <td>United Arab Emirates</td>\n",
       "      <td>NaN</td>\n",
       "      <td>67.3</td>\n",
       "      <td>NaN</td>\n",
       "      <td>NaN</td>\n",
       "      <td>68.7</td>\n",
       "      <td>71.0</td>\n",
       "      <td>71.2</td>\n",
       "      <td>72.2</td>\n",
       "      <td>66.2</td>\n",
       "      <td>65.4</td>\n",
       "      <td>65.7</td>\n",
       "      <td>68.3</td>\n",
       "      <td>70.4</td>\n",
       "      <td>66.0</td>\n",
       "      <td>67.9</td>\n",
       "    </tr>\n",
       "    <tr>\n",
       "      <th>4</th>\n",
       "      <td>Argentina</td>\n",
       "      <td>NaN</td>\n",
       "      <td>63.1</td>\n",
       "      <td>60.7</td>\n",
       "      <td>59.6</td>\n",
       "      <td>64.2</td>\n",
       "      <td>64.4</td>\n",
       "      <td>67.8</td>\n",
       "      <td>64.7</td>\n",
       "      <td>65.8</td>\n",
       "      <td>66.7</td>\n",
       "      <td>67.0</td>\n",
       "      <td>64.3</td>\n",
       "      <td>60.4</td>\n",
       "      <td>57.9</td>\n",
       "      <td>59.7</td>\n",
       "    </tr>\n",
       "  </tbody>\n",
       "</table>\n",
       "</div>"
      ],
      "text/plain": [
       "                country  2005  2006  2007  2008  2009  2010  2011  2012  2013  \\\n",
       "0           Afghanistan   NaN   NaN   NaN  37.2  44.0  47.6  38.3  37.8  35.7   \n",
       "1                Angola   NaN   NaN   NaN   NaN   NaN   NaN  55.9  43.6  39.4   \n",
       "2               Albania   NaN   NaN  46.3   NaN  54.9  52.7  58.7  55.1  45.5   \n",
       "3  United Arab Emirates   NaN  67.3   NaN   NaN  68.7  71.0  71.2  72.2  66.2   \n",
       "4             Argentina   NaN  63.1  60.7  59.6  64.2  64.4  67.8  64.7  65.8   \n",
       "\n",
       "   2014  2015  2016  2017  2018  2019  \n",
       "0  31.3  39.8  42.2  26.6  26.9  25.7  \n",
       "1  37.9   NaN   NaN   NaN   NaN   NaN  \n",
       "2  48.1  46.1  45.1  46.4  50.0  48.8  \n",
       "3  65.4  65.7  68.3  70.4  66.0  67.9  \n",
       "4  66.7  67.0  64.3  60.4  57.9  59.7  "
      ]
     },
     "execution_count": 60,
     "metadata": {},
     "output_type": "execute_result"
    }
   ],
   "source": [
    "# Load and inspect data\n",
    "\n",
    "happiness_df = pd.read_csv('happiness_score.csv')\n",
    "happiness_df.head()"
   ]
  },
  {
   "cell_type": "markdown",
   "metadata": {},
   "source": [
    "> From just the first few rows of data here it looks like the first few years might have a lot of data missing. So let's take a further look."
   ]
  },
  {
   "cell_type": "code",
   "execution_count": 61,
   "metadata": {},
   "outputs": [
    {
     "name": "stdout",
     "output_type": "stream",
     "text": [
      "<class 'pandas.core.frame.DataFrame'>\n",
      "RangeIndex: 163 entries, 0 to 162\n",
      "Data columns (total 16 columns):\n",
      "country    163 non-null object\n",
      "2005       27 non-null float64\n",
      "2006       89 non-null float64\n",
      "2007       101 non-null float64\n",
      "2008       109 non-null float64\n",
      "2009       113 non-null float64\n",
      "2010       123 non-null float64\n",
      "2011       145 non-null float64\n",
      "2012       140 non-null float64\n",
      "2013       135 non-null float64\n",
      "2014       143 non-null float64\n",
      "2015       141 non-null float64\n",
      "2016       140 non-null float64\n",
      "2017       146 non-null float64\n",
      "2018       134 non-null float64\n",
      "2019       151 non-null float64\n",
      "dtypes: float64(15), object(1)\n",
      "memory usage: 20.5+ KB\n"
     ]
    }
   ],
   "source": [
    "#retrieve info about the happiness scoring data\n",
    "happiness_df.info()"
   ]
  },
  {
   "cell_type": "markdown",
   "metadata": {},
   "source": [
    ">The first couple of years in this dataset have a lot of missing data. There are 163 countries with data recorded but only 27 have scores recorded in 2005 and 89 recorded in 2006. So let's drop 2005 and 2006 from our analysis."
   ]
  },
  {
   "cell_type": "code",
   "execution_count": 62,
   "metadata": {},
   "outputs": [],
   "source": [
    "#remove the columns 2005 and 2006 from our data\n",
    "happiness_df.drop(['2005','2006'],axis=1,inplace=True)"
   ]
  },
  {
   "cell_type": "markdown",
   "metadata": {},
   "source": [
    ">Let's have another look at the first few rows of data we have to see what else might need addressing."
   ]
  },
  {
   "cell_type": "code",
   "execution_count": 63,
   "metadata": {},
   "outputs": [
    {
     "data": {
      "text/html": [
       "<div>\n",
       "<style scoped>\n",
       "    .dataframe tbody tr th:only-of-type {\n",
       "        vertical-align: middle;\n",
       "    }\n",
       "\n",
       "    .dataframe tbody tr th {\n",
       "        vertical-align: top;\n",
       "    }\n",
       "\n",
       "    .dataframe thead th {\n",
       "        text-align: right;\n",
       "    }\n",
       "</style>\n",
       "<table border=\"1\" class=\"dataframe\">\n",
       "  <thead>\n",
       "    <tr style=\"text-align: right;\">\n",
       "      <th></th>\n",
       "      <th>country</th>\n",
       "      <th>2007</th>\n",
       "      <th>2008</th>\n",
       "      <th>2009</th>\n",
       "      <th>2010</th>\n",
       "      <th>2011</th>\n",
       "      <th>2012</th>\n",
       "      <th>2013</th>\n",
       "      <th>2014</th>\n",
       "      <th>2015</th>\n",
       "      <th>2016</th>\n",
       "      <th>2017</th>\n",
       "      <th>2018</th>\n",
       "      <th>2019</th>\n",
       "    </tr>\n",
       "  </thead>\n",
       "  <tbody>\n",
       "    <tr>\n",
       "      <th>0</th>\n",
       "      <td>Afghanistan</td>\n",
       "      <td>NaN</td>\n",
       "      <td>37.2</td>\n",
       "      <td>44.0</td>\n",
       "      <td>47.6</td>\n",
       "      <td>38.3</td>\n",
       "      <td>37.8</td>\n",
       "      <td>35.7</td>\n",
       "      <td>31.3</td>\n",
       "      <td>39.8</td>\n",
       "      <td>42.2</td>\n",
       "      <td>26.6</td>\n",
       "      <td>26.9</td>\n",
       "      <td>25.7</td>\n",
       "    </tr>\n",
       "    <tr>\n",
       "      <th>1</th>\n",
       "      <td>Angola</td>\n",
       "      <td>NaN</td>\n",
       "      <td>NaN</td>\n",
       "      <td>NaN</td>\n",
       "      <td>NaN</td>\n",
       "      <td>55.9</td>\n",
       "      <td>43.6</td>\n",
       "      <td>39.4</td>\n",
       "      <td>37.9</td>\n",
       "      <td>NaN</td>\n",
       "      <td>NaN</td>\n",
       "      <td>NaN</td>\n",
       "      <td>NaN</td>\n",
       "      <td>NaN</td>\n",
       "    </tr>\n",
       "    <tr>\n",
       "      <th>2</th>\n",
       "      <td>Albania</td>\n",
       "      <td>46.3</td>\n",
       "      <td>NaN</td>\n",
       "      <td>54.9</td>\n",
       "      <td>52.7</td>\n",
       "      <td>58.7</td>\n",
       "      <td>55.1</td>\n",
       "      <td>45.5</td>\n",
       "      <td>48.1</td>\n",
       "      <td>46.1</td>\n",
       "      <td>45.1</td>\n",
       "      <td>46.4</td>\n",
       "      <td>50.0</td>\n",
       "      <td>48.8</td>\n",
       "    </tr>\n",
       "    <tr>\n",
       "      <th>3</th>\n",
       "      <td>United Arab Emirates</td>\n",
       "      <td>NaN</td>\n",
       "      <td>NaN</td>\n",
       "      <td>68.7</td>\n",
       "      <td>71.0</td>\n",
       "      <td>71.2</td>\n",
       "      <td>72.2</td>\n",
       "      <td>66.2</td>\n",
       "      <td>65.4</td>\n",
       "      <td>65.7</td>\n",
       "      <td>68.3</td>\n",
       "      <td>70.4</td>\n",
       "      <td>66.0</td>\n",
       "      <td>67.9</td>\n",
       "    </tr>\n",
       "    <tr>\n",
       "      <th>4</th>\n",
       "      <td>Argentina</td>\n",
       "      <td>60.7</td>\n",
       "      <td>59.6</td>\n",
       "      <td>64.2</td>\n",
       "      <td>64.4</td>\n",
       "      <td>67.8</td>\n",
       "      <td>64.7</td>\n",
       "      <td>65.8</td>\n",
       "      <td>66.7</td>\n",
       "      <td>67.0</td>\n",
       "      <td>64.3</td>\n",
       "      <td>60.4</td>\n",
       "      <td>57.9</td>\n",
       "      <td>59.7</td>\n",
       "    </tr>\n",
       "  </tbody>\n",
       "</table>\n",
       "</div>"
      ],
      "text/plain": [
       "                country  2007  2008  2009  2010  2011  2012  2013  2014  2015  \\\n",
       "0           Afghanistan   NaN  37.2  44.0  47.6  38.3  37.8  35.7  31.3  39.8   \n",
       "1                Angola   NaN   NaN   NaN   NaN  55.9  43.6  39.4  37.9   NaN   \n",
       "2               Albania  46.3   NaN  54.9  52.7  58.7  55.1  45.5  48.1  46.1   \n",
       "3  United Arab Emirates   NaN   NaN  68.7  71.0  71.2  72.2  66.2  65.4  65.7   \n",
       "4             Argentina  60.7  59.6  64.2  64.4  67.8  64.7  65.8  66.7  67.0   \n",
       "\n",
       "   2016  2017  2018  2019  \n",
       "0  42.2  26.6  26.9  25.7  \n",
       "1   NaN   NaN   NaN   NaN  \n",
       "2  45.1  46.4  50.0  48.8  \n",
       "3  68.3  70.4  66.0  67.9  \n",
       "4  64.3  60.4  57.9  59.7  "
      ]
     },
     "execution_count": 63,
     "metadata": {},
     "output_type": "execute_result"
    }
   ],
   "source": [
    "#Look at a sample of the data\n",
    "happiness_df.head()"
   ]
  },
  {
   "cell_type": "markdown",
   "metadata": {},
   "source": [
    ">Looking at Angola in this snippet of data, it only has happiness scores recorded for four years, this isn't enough data to make any conclusions from. So let's see if there are any other countries with limited data."
   ]
  },
  {
   "cell_type": "code",
   "execution_count": 64,
   "metadata": {},
   "outputs": [
    {
     "data": {
      "text/html": [
       "<div>\n",
       "<style scoped>\n",
       "    .dataframe tbody tr th:only-of-type {\n",
       "        vertical-align: middle;\n",
       "    }\n",
       "\n",
       "    .dataframe tbody tr th {\n",
       "        vertical-align: top;\n",
       "    }\n",
       "\n",
       "    .dataframe thead th {\n",
       "        text-align: right;\n",
       "    }\n",
       "</style>\n",
       "<table border=\"1\" class=\"dataframe\">\n",
       "  <thead>\n",
       "    <tr style=\"text-align: right;\">\n",
       "      <th></th>\n",
       "      <th>country</th>\n",
       "      <th>2007</th>\n",
       "      <th>2008</th>\n",
       "      <th>2009</th>\n",
       "      <th>2010</th>\n",
       "      <th>2011</th>\n",
       "      <th>2012</th>\n",
       "      <th>2013</th>\n",
       "      <th>2014</th>\n",
       "      <th>2015</th>\n",
       "      <th>2016</th>\n",
       "      <th>2017</th>\n",
       "      <th>2018</th>\n",
       "      <th>2019</th>\n",
       "      <th>value_count</th>\n",
       "    </tr>\n",
       "  </thead>\n",
       "  <tbody>\n",
       "    <tr>\n",
       "      <th>35</th>\n",
       "      <td>Cuba</td>\n",
       "      <td>NaN</td>\n",
       "      <td>NaN</td>\n",
       "      <td>NaN</td>\n",
       "      <td>NaN</td>\n",
       "      <td>NaN</td>\n",
       "      <td>NaN</td>\n",
       "      <td>NaN</td>\n",
       "      <td>NaN</td>\n",
       "      <td>NaN</td>\n",
       "      <td>NaN</td>\n",
       "      <td>NaN</td>\n",
       "      <td>NaN</td>\n",
       "      <td>NaN</td>\n",
       "      <td>13</td>\n",
       "    </tr>\n",
       "    <tr>\n",
       "      <th>58</th>\n",
       "      <td>Guyana</td>\n",
       "      <td>59.9</td>\n",
       "      <td>NaN</td>\n",
       "      <td>NaN</td>\n",
       "      <td>NaN</td>\n",
       "      <td>NaN</td>\n",
       "      <td>NaN</td>\n",
       "      <td>NaN</td>\n",
       "      <td>NaN</td>\n",
       "      <td>NaN</td>\n",
       "      <td>NaN</td>\n",
       "      <td>NaN</td>\n",
       "      <td>NaN</td>\n",
       "      <td>NaN</td>\n",
       "      <td>12</td>\n",
       "    </tr>\n",
       "    <tr>\n",
       "      <th>93</th>\n",
       "      <td>Maldives</td>\n",
       "      <td>NaN</td>\n",
       "      <td>NaN</td>\n",
       "      <td>NaN</td>\n",
       "      <td>NaN</td>\n",
       "      <td>NaN</td>\n",
       "      <td>NaN</td>\n",
       "      <td>NaN</td>\n",
       "      <td>NaN</td>\n",
       "      <td>NaN</td>\n",
       "      <td>NaN</td>\n",
       "      <td>NaN</td>\n",
       "      <td>NaN</td>\n",
       "      <td>52.0</td>\n",
       "      <td>12</td>\n",
       "    </tr>\n",
       "    <tr>\n",
       "      <th>114</th>\n",
       "      <td>Oman</td>\n",
       "      <td>NaN</td>\n",
       "      <td>NaN</td>\n",
       "      <td>NaN</td>\n",
       "      <td>NaN</td>\n",
       "      <td>68.5</td>\n",
       "      <td>NaN</td>\n",
       "      <td>NaN</td>\n",
       "      <td>NaN</td>\n",
       "      <td>NaN</td>\n",
       "      <td>NaN</td>\n",
       "      <td>NaN</td>\n",
       "      <td>NaN</td>\n",
       "      <td>NaN</td>\n",
       "      <td>12</td>\n",
       "    </tr>\n",
       "    <tr>\n",
       "      <th>136</th>\n",
       "      <td>Suriname</td>\n",
       "      <td>NaN</td>\n",
       "      <td>NaN</td>\n",
       "      <td>NaN</td>\n",
       "      <td>NaN</td>\n",
       "      <td>NaN</td>\n",
       "      <td>62.7</td>\n",
       "      <td>NaN</td>\n",
       "      <td>NaN</td>\n",
       "      <td>NaN</td>\n",
       "      <td>NaN</td>\n",
       "      <td>NaN</td>\n",
       "      <td>NaN</td>\n",
       "      <td>NaN</td>\n",
       "      <td>12</td>\n",
       "    </tr>\n",
       "  </tbody>\n",
       "</table>\n",
       "</div>"
      ],
      "text/plain": [
       "      country  2007  2008  2009  2010  2011  2012  2013  2014  2015  2016  \\\n",
       "35       Cuba   NaN   NaN   NaN   NaN   NaN   NaN   NaN   NaN   NaN   NaN   \n",
       "58     Guyana  59.9   NaN   NaN   NaN   NaN   NaN   NaN   NaN   NaN   NaN   \n",
       "93   Maldives   NaN   NaN   NaN   NaN   NaN   NaN   NaN   NaN   NaN   NaN   \n",
       "114      Oman   NaN   NaN   NaN   NaN  68.5   NaN   NaN   NaN   NaN   NaN   \n",
       "136  Suriname   NaN   NaN   NaN   NaN   NaN  62.7   NaN   NaN   NaN   NaN   \n",
       "\n",
       "     2017  2018  2019  value_count  \n",
       "35    NaN   NaN   NaN           13  \n",
       "58    NaN   NaN   NaN           12  \n",
       "93    NaN   NaN  52.0           12  \n",
       "114   NaN   NaN   NaN           12  \n",
       "136   NaN   NaN   NaN           12  "
      ]
     },
     "execution_count": 64,
     "metadata": {},
     "output_type": "execute_result"
    }
   ],
   "source": [
    "#Count the number of null values in the row\n",
    "value_count = happiness_df.isnull().sum(axis=1) \n",
    "#Add this new column to our data, sorting it so the rows with the most null values are at the top\n",
    "happiness_df_null_count = happiness_df.assign(value_count=value_count.values).sort_values(by=['value_count'],ascending=False)\n",
    "\n",
    "#take a look at this data to see which countries have the most null values\n",
    "happiness_df_null_count.head()"
   ]
  },
  {
   "cell_type": "markdown",
   "metadata": {},
   "source": [
    ">There seems to be other countries that have a lot of missing data, Cuba has no data since we removed the first two years. So let's look at how many countries have missing data and how many missing values they have."
   ]
  },
  {
   "cell_type": "code",
   "execution_count": 65,
   "metadata": {},
   "outputs": [
    {
     "data": {
      "text/plain": [
       "value_count\n",
       "0     62\n",
       "1     30\n",
       "2     23\n",
       "3      7\n",
       "4      6\n",
       "5      7\n",
       "6      5\n",
       "7      5\n",
       "8      6\n",
       "9      3\n",
       "10     3\n",
       "11     1\n",
       "12     4\n",
       "13     1\n",
       "dtype: int64"
      ]
     },
     "execution_count": 65,
     "metadata": {},
     "output_type": "execute_result"
    }
   ],
   "source": [
    "#See a breakdown of the number of countries with missing data and how many missing values they have\n",
    "happiness_df_null_count.groupby(['value_count']).size()"
   ]
  },
  {
   "cell_type": "markdown",
   "metadata": {},
   "source": [
    "> It looks like most countries only have a couple of missing values. Let just look at countries where there are only a couple missing values and we can fill those in with averages. We can drop the other countries from our analysis."
   ]
  },
  {
   "cell_type": "code",
   "execution_count": 66,
   "metadata": {},
   "outputs": [
    {
     "data": {
      "text/html": [
       "<div>\n",
       "<style scoped>\n",
       "    .dataframe tbody tr th:only-of-type {\n",
       "        vertical-align: middle;\n",
       "    }\n",
       "\n",
       "    .dataframe tbody tr th {\n",
       "        vertical-align: top;\n",
       "    }\n",
       "\n",
       "    .dataframe thead th {\n",
       "        text-align: right;\n",
       "    }\n",
       "</style>\n",
       "<table border=\"1\" class=\"dataframe\">\n",
       "  <thead>\n",
       "    <tr style=\"text-align: right;\">\n",
       "      <th></th>\n",
       "      <th>country</th>\n",
       "      <th>2007</th>\n",
       "      <th>2008</th>\n",
       "      <th>2009</th>\n",
       "      <th>2010</th>\n",
       "      <th>2011</th>\n",
       "      <th>2012</th>\n",
       "      <th>2013</th>\n",
       "      <th>2014</th>\n",
       "      <th>2015</th>\n",
       "      <th>2016</th>\n",
       "      <th>2017</th>\n",
       "      <th>2018</th>\n",
       "      <th>2019</th>\n",
       "    </tr>\n",
       "  </thead>\n",
       "  <tbody>\n",
       "    <tr>\n",
       "      <th>0</th>\n",
       "      <td>Afghanistan</td>\n",
       "      <td>NaN</td>\n",
       "      <td>37.2</td>\n",
       "      <td>44.0</td>\n",
       "      <td>47.6</td>\n",
       "      <td>38.3</td>\n",
       "      <td>37.8</td>\n",
       "      <td>35.7</td>\n",
       "      <td>31.3</td>\n",
       "      <td>39.8</td>\n",
       "      <td>42.2</td>\n",
       "      <td>26.6</td>\n",
       "      <td>26.9</td>\n",
       "      <td>25.7</td>\n",
       "    </tr>\n",
       "    <tr>\n",
       "      <th>2</th>\n",
       "      <td>Albania</td>\n",
       "      <td>46.3</td>\n",
       "      <td>NaN</td>\n",
       "      <td>54.9</td>\n",
       "      <td>52.7</td>\n",
       "      <td>58.7</td>\n",
       "      <td>55.1</td>\n",
       "      <td>45.5</td>\n",
       "      <td>48.1</td>\n",
       "      <td>46.1</td>\n",
       "      <td>45.1</td>\n",
       "      <td>46.4</td>\n",
       "      <td>50.0</td>\n",
       "      <td>48.8</td>\n",
       "    </tr>\n",
       "    <tr>\n",
       "      <th>3</th>\n",
       "      <td>United Arab Emirates</td>\n",
       "      <td>NaN</td>\n",
       "      <td>NaN</td>\n",
       "      <td>68.7</td>\n",
       "      <td>71.0</td>\n",
       "      <td>71.2</td>\n",
       "      <td>72.2</td>\n",
       "      <td>66.2</td>\n",
       "      <td>65.4</td>\n",
       "      <td>65.7</td>\n",
       "      <td>68.3</td>\n",
       "      <td>70.4</td>\n",
       "      <td>66.0</td>\n",
       "      <td>67.9</td>\n",
       "    </tr>\n",
       "    <tr>\n",
       "      <th>4</th>\n",
       "      <td>Argentina</td>\n",
       "      <td>60.7</td>\n",
       "      <td>59.6</td>\n",
       "      <td>64.2</td>\n",
       "      <td>64.4</td>\n",
       "      <td>67.8</td>\n",
       "      <td>64.7</td>\n",
       "      <td>65.8</td>\n",
       "      <td>66.7</td>\n",
       "      <td>67.0</td>\n",
       "      <td>64.3</td>\n",
       "      <td>60.4</td>\n",
       "      <td>57.9</td>\n",
       "      <td>59.7</td>\n",
       "    </tr>\n",
       "    <tr>\n",
       "      <th>5</th>\n",
       "      <td>Armenia</td>\n",
       "      <td>48.8</td>\n",
       "      <td>46.5</td>\n",
       "      <td>41.8</td>\n",
       "      <td>43.7</td>\n",
       "      <td>42.6</td>\n",
       "      <td>43.2</td>\n",
       "      <td>42.8</td>\n",
       "      <td>44.5</td>\n",
       "      <td>43.5</td>\n",
       "      <td>43.3</td>\n",
       "      <td>42.9</td>\n",
       "      <td>50.6</td>\n",
       "      <td>46.8</td>\n",
       "    </tr>\n",
       "  </tbody>\n",
       "</table>\n",
       "</div>"
      ],
      "text/plain": [
       "                country  2007  2008  2009  2010  2011  2012  2013  2014  2015  \\\n",
       "0           Afghanistan   NaN  37.2  44.0  47.6  38.3  37.8  35.7  31.3  39.8   \n",
       "2               Albania  46.3   NaN  54.9  52.7  58.7  55.1  45.5  48.1  46.1   \n",
       "3  United Arab Emirates   NaN   NaN  68.7  71.0  71.2  72.2  66.2  65.4  65.7   \n",
       "4             Argentina  60.7  59.6  64.2  64.4  67.8  64.7  65.8  66.7  67.0   \n",
       "5               Armenia  48.8  46.5  41.8  43.7  42.6  43.2  42.8  44.5  43.5   \n",
       "\n",
       "   2016  2017  2018  2019  \n",
       "0  42.2  26.6  26.9  25.7  \n",
       "2  45.1  46.4  50.0  48.8  \n",
       "3  68.3  70.4  66.0  67.9  \n",
       "4  64.3  60.4  57.9  59.7  \n",
       "5  43.3  42.9  50.6  46.8  "
      ]
     },
     "execution_count": 66,
     "metadata": {},
     "output_type": "execute_result"
    }
   ],
   "source": [
    "#remove the rows that dont have at least 12 non null values i.e. only keep the rows that have at most 2 missing values\n",
    "happiness_df.dropna(thresh=12,inplace=True)\n",
    "happiness_df.head()"
   ]
  },
  {
   "cell_type": "markdown",
   "metadata": {},
   "source": [
    ">Angola is no longer being included in the data so we know we've successfully dropped the data we wanted to. Next we will unpivot our data so we have three columns, country, year and happiness. This is so we can add in our other variables for analysis."
   ]
  },
  {
   "cell_type": "code",
   "execution_count": 67,
   "metadata": {},
   "outputs": [
    {
     "data": {
      "text/html": [
       "<div>\n",
       "<style scoped>\n",
       "    .dataframe tbody tr th:only-of-type {\n",
       "        vertical-align: middle;\n",
       "    }\n",
       "\n",
       "    .dataframe tbody tr th {\n",
       "        vertical-align: top;\n",
       "    }\n",
       "\n",
       "    .dataframe thead th {\n",
       "        text-align: right;\n",
       "    }\n",
       "</style>\n",
       "<table border=\"1\" class=\"dataframe\">\n",
       "  <thead>\n",
       "    <tr style=\"text-align: right;\">\n",
       "      <th></th>\n",
       "      <th>country</th>\n",
       "      <th>year</th>\n",
       "      <th>happiness</th>\n",
       "    </tr>\n",
       "  </thead>\n",
       "  <tbody>\n",
       "    <tr>\n",
       "      <th>0</th>\n",
       "      <td>Afghanistan</td>\n",
       "      <td>2007</td>\n",
       "      <td>NaN</td>\n",
       "    </tr>\n",
       "    <tr>\n",
       "      <th>1</th>\n",
       "      <td>Albania</td>\n",
       "      <td>2007</td>\n",
       "      <td>46.3</td>\n",
       "    </tr>\n",
       "    <tr>\n",
       "      <th>2</th>\n",
       "      <td>United Arab Emirates</td>\n",
       "      <td>2007</td>\n",
       "      <td>NaN</td>\n",
       "    </tr>\n",
       "    <tr>\n",
       "      <th>3</th>\n",
       "      <td>Argentina</td>\n",
       "      <td>2007</td>\n",
       "      <td>60.7</td>\n",
       "    </tr>\n",
       "    <tr>\n",
       "      <th>4</th>\n",
       "      <td>Armenia</td>\n",
       "      <td>2007</td>\n",
       "      <td>48.8</td>\n",
       "    </tr>\n",
       "  </tbody>\n",
       "</table>\n",
       "</div>"
      ],
      "text/plain": [
       "                country  year  happiness\n",
       "0           Afghanistan  2007        NaN\n",
       "1               Albania  2007       46.3\n",
       "2  United Arab Emirates  2007        NaN\n",
       "3             Argentina  2007       60.7\n",
       "4               Armenia  2007       48.8"
      ]
     },
     "execution_count": 67,
     "metadata": {},
     "output_type": "execute_result"
    }
   ],
   "source": [
    "#unpivot the data so years are now in one column rather thana accross multiple columns\n",
    "happiness_df_v2 = happiness_df.melt(id_vars=['country'], var_name='year', value_name='happiness')\n",
    "\n",
    "#view a sample of the data now\n",
    "happiness_df_v2.head()"
   ]
  },
  {
   "cell_type": "markdown",
   "metadata": {},
   "source": [
    ">We still have some missing values, so let's fill those in with the mean happiness rating for that country."
   ]
  },
  {
   "cell_type": "code",
   "execution_count": 68,
   "metadata": {},
   "outputs": [
    {
     "data": {
      "text/html": [
       "<div>\n",
       "<style scoped>\n",
       "    .dataframe tbody tr th:only-of-type {\n",
       "        vertical-align: middle;\n",
       "    }\n",
       "\n",
       "    .dataframe tbody tr th {\n",
       "        vertical-align: top;\n",
       "    }\n",
       "\n",
       "    .dataframe thead th {\n",
       "        text-align: right;\n",
       "    }\n",
       "</style>\n",
       "<table border=\"1\" class=\"dataframe\">\n",
       "  <thead>\n",
       "    <tr style=\"text-align: right;\">\n",
       "      <th></th>\n",
       "      <th>country</th>\n",
       "      <th>year</th>\n",
       "      <th>happiness</th>\n",
       "    </tr>\n",
       "  </thead>\n",
       "  <tbody>\n",
       "    <tr>\n",
       "      <th>0</th>\n",
       "      <td>Afghanistan</td>\n",
       "      <td>2007</td>\n",
       "      <td>36.091667</td>\n",
       "    </tr>\n",
       "    <tr>\n",
       "      <th>1</th>\n",
       "      <td>Albania</td>\n",
       "      <td>2007</td>\n",
       "      <td>46.300000</td>\n",
       "    </tr>\n",
       "    <tr>\n",
       "      <th>2</th>\n",
       "      <td>United Arab Emirates</td>\n",
       "      <td>2007</td>\n",
       "      <td>68.454545</td>\n",
       "    </tr>\n",
       "    <tr>\n",
       "      <th>3</th>\n",
       "      <td>Argentina</td>\n",
       "      <td>2007</td>\n",
       "      <td>60.700000</td>\n",
       "    </tr>\n",
       "    <tr>\n",
       "      <th>4</th>\n",
       "      <td>Armenia</td>\n",
       "      <td>2007</td>\n",
       "      <td>48.800000</td>\n",
       "    </tr>\n",
       "  </tbody>\n",
       "</table>\n",
       "</div>"
      ],
      "text/plain": [
       "                country  year  happiness\n",
       "0           Afghanistan  2007  36.091667\n",
       "1               Albania  2007  46.300000\n",
       "2  United Arab Emirates  2007  68.454545\n",
       "3             Argentina  2007  60.700000\n",
       "4               Armenia  2007  48.800000"
      ]
     },
     "execution_count": 68,
     "metadata": {},
     "output_type": "execute_result"
    }
   ],
   "source": [
    "#fill in the null values with the mean value of that country\n",
    "happiness_df_v2['happiness'] = happiness_df_v2['happiness'].fillna(happiness_df_v2.groupby('country')['happiness'].transform('mean'))\n",
    "\n",
    "#view a sample of the data\n",
    "happiness_df_v2.head()"
   ]
  },
  {
   "cell_type": "markdown",
   "metadata": {},
   "source": [
    ">Now we are happy with how the data is looking let's do a final check and make sure all the missing values have been filled in and we are happy with the data types."
   ]
  },
  {
   "cell_type": "code",
   "execution_count": 69,
   "metadata": {},
   "outputs": [
    {
     "name": "stdout",
     "output_type": "stream",
     "text": [
      "<class 'pandas.core.frame.DataFrame'>\n",
      "RangeIndex: 1495 entries, 0 to 1494\n",
      "Data columns (total 3 columns):\n",
      "country      1495 non-null object\n",
      "year         1495 non-null object\n",
      "happiness    1495 non-null float64\n",
      "dtypes: float64(1), object(2)\n",
      "memory usage: 35.1+ KB\n"
     ]
    }
   ],
   "source": [
    "#take a look at an overview of the data\n",
    "happiness_df_v2.info()"
   ]
  },
  {
   "cell_type": "markdown",
   "metadata": {},
   "source": [
    ">We have a total of 1495 non-null values in each column and 1495 entries, so that is looking good now. The final change we need to make is converting the year from an object to a number, this will make ordering the years in graphs easier."
   ]
  },
  {
   "cell_type": "code",
   "execution_count": 70,
   "metadata": {},
   "outputs": [],
   "source": [
    "#change the type of the column year to an int\n",
    "happiness_df_v2['year']=happiness_df_v2['year'].astype(int)"
   ]
  },
  {
   "cell_type": "markdown",
   "metadata": {},
   "source": [
    ">We now have a complete dataset for happiness scores that we can work with. Next we will look at our other four datasets so they can be analysed along with happiness. We will start by looking at the dataset recording cell phones per 100 people. "
   ]
  },
  {
   "cell_type": "markdown",
   "metadata": {},
   "source": [
    ">Seen as our analysis is centred around how various indicators affect happiness, it makes sense to only look at data inside the 2007 to 2019 date range."
   ]
  },
  {
   "cell_type": "code",
   "execution_count": 71,
   "metadata": {},
   "outputs": [
    {
     "data": {
      "text/html": [
       "<div>\n",
       "<style scoped>\n",
       "    .dataframe tbody tr th:only-of-type {\n",
       "        vertical-align: middle;\n",
       "    }\n",
       "\n",
       "    .dataframe tbody tr th {\n",
       "        vertical-align: top;\n",
       "    }\n",
       "\n",
       "    .dataframe thead th {\n",
       "        text-align: right;\n",
       "    }\n",
       "</style>\n",
       "<table border=\"1\" class=\"dataframe\">\n",
       "  <thead>\n",
       "    <tr style=\"text-align: right;\">\n",
       "      <th></th>\n",
       "      <th>country</th>\n",
       "      <th>2007</th>\n",
       "      <th>2008</th>\n",
       "      <th>2009</th>\n",
       "      <th>2010</th>\n",
       "      <th>2011</th>\n",
       "      <th>2012</th>\n",
       "      <th>2013</th>\n",
       "      <th>2014</th>\n",
       "      <th>2015</th>\n",
       "      <th>2016</th>\n",
       "      <th>2017</th>\n",
       "      <th>2018</th>\n",
       "      <th>2019</th>\n",
       "    </tr>\n",
       "  </thead>\n",
       "  <tbody>\n",
       "    <tr>\n",
       "      <th>0</th>\n",
       "      <td>Aruba</td>\n",
       "      <td>112.0</td>\n",
       "      <td>119.0</td>\n",
       "      <td>126.0</td>\n",
       "      <td>130.0</td>\n",
       "      <td>NaN</td>\n",
       "      <td>132.0</td>\n",
       "      <td>135.0</td>\n",
       "      <td>135.0</td>\n",
       "      <td>135.0</td>\n",
       "      <td>NaN</td>\n",
       "      <td>NaN</td>\n",
       "      <td>NaN</td>\n",
       "      <td>NaN</td>\n",
       "    </tr>\n",
       "    <tr>\n",
       "      <th>1</th>\n",
       "      <td>Afghanistan</td>\n",
       "      <td>17.2</td>\n",
       "      <td>28.5</td>\n",
       "      <td>37.0</td>\n",
       "      <td>35.0</td>\n",
       "      <td>45.8</td>\n",
       "      <td>49.2</td>\n",
       "      <td>52.1</td>\n",
       "      <td>55.2</td>\n",
       "      <td>57.3</td>\n",
       "      <td>61.1</td>\n",
       "      <td>65.9</td>\n",
       "      <td>59.1</td>\n",
       "      <td>59.4</td>\n",
       "    </tr>\n",
       "    <tr>\n",
       "      <th>2</th>\n",
       "      <td>Angola</td>\n",
       "      <td>23.7</td>\n",
       "      <td>31.2</td>\n",
       "      <td>36.0</td>\n",
       "      <td>40.3</td>\n",
       "      <td>49.8</td>\n",
       "      <td>50.9</td>\n",
       "      <td>51.1</td>\n",
       "      <td>52.2</td>\n",
       "      <td>49.8</td>\n",
       "      <td>45.1</td>\n",
       "      <td>44.7</td>\n",
       "      <td>43.1</td>\n",
       "      <td>46.6</td>\n",
       "    </tr>\n",
       "    <tr>\n",
       "      <th>3</th>\n",
       "      <td>Albania</td>\n",
       "      <td>76.5</td>\n",
       "      <td>61.9</td>\n",
       "      <td>82.9</td>\n",
       "      <td>91.3</td>\n",
       "      <td>106.0</td>\n",
       "      <td>120.0</td>\n",
       "      <td>127.0</td>\n",
       "      <td>116.0</td>\n",
       "      <td>118.0</td>\n",
       "      <td>117.0</td>\n",
       "      <td>126.0</td>\n",
       "      <td>94.2</td>\n",
       "      <td>91.3</td>\n",
       "    </tr>\n",
       "    <tr>\n",
       "      <th>4</th>\n",
       "      <td>Andorra</td>\n",
       "      <td>76.8</td>\n",
       "      <td>76.6</td>\n",
       "      <td>76.4</td>\n",
       "      <td>77.6</td>\n",
       "      <td>77.7</td>\n",
       "      <td>77.5</td>\n",
       "      <td>79.1</td>\n",
       "      <td>83.6</td>\n",
       "      <td>91.4</td>\n",
       "      <td>98.5</td>\n",
       "      <td>104.0</td>\n",
       "      <td>107.0</td>\n",
       "      <td>114.0</td>\n",
       "    </tr>\n",
       "  </tbody>\n",
       "</table>\n",
       "</div>"
      ],
      "text/plain": [
       "       country   2007   2008   2009   2010   2011   2012   2013   2014   2015  \\\n",
       "0        Aruba  112.0  119.0  126.0  130.0    NaN  132.0  135.0  135.0  135.0   \n",
       "1  Afghanistan   17.2   28.5   37.0   35.0   45.8   49.2   52.1   55.2   57.3   \n",
       "2       Angola   23.7   31.2   36.0   40.3   49.8   50.9   51.1   52.2   49.8   \n",
       "3      Albania   76.5   61.9   82.9   91.3  106.0  120.0  127.0  116.0  118.0   \n",
       "4      Andorra   76.8   76.6   76.4   77.6   77.7   77.5   79.1   83.6   91.4   \n",
       "\n",
       "    2016   2017   2018   2019  \n",
       "0    NaN    NaN    NaN    NaN  \n",
       "1   61.1   65.9   59.1   59.4  \n",
       "2   45.1   44.7   43.1   46.6  \n",
       "3  117.0  126.0   94.2   91.3  \n",
       "4   98.5  104.0  107.0  114.0  "
      ]
     },
     "execution_count": 71,
     "metadata": {},
     "output_type": "execute_result"
    }
   ],
   "source": [
    "#read the csv file with the cell phone data, only brining in the relevant columns\n",
    "phone_df = pd.read_csv('cell_phones_per_100_people.csv',usecols=['country','2007','2008','2009','2010','2011','2012','2013','2014','2015','2016','2017','2018','2019'])\n",
    "\n",
    "#look at a sample of the data\n",
    "phone_df.head()"
   ]
  },
  {
   "cell_type": "markdown",
   "metadata": {},
   "source": [
    ">It looks like there could be some missing values, let's start by seeing if there are any countries with too many missing values to work with."
   ]
  },
  {
   "cell_type": "code",
   "execution_count": 72,
   "metadata": {},
   "outputs": [
    {
     "data": {
      "text/html": [
       "<div>\n",
       "<style scoped>\n",
       "    .dataframe tbody tr th:only-of-type {\n",
       "        vertical-align: middle;\n",
       "    }\n",
       "\n",
       "    .dataframe tbody tr th {\n",
       "        vertical-align: top;\n",
       "    }\n",
       "\n",
       "    .dataframe thead th {\n",
       "        text-align: right;\n",
       "    }\n",
       "</style>\n",
       "<table border=\"1\" class=\"dataframe\">\n",
       "  <thead>\n",
       "    <tr style=\"text-align: right;\">\n",
       "      <th></th>\n",
       "      <th>country</th>\n",
       "      <th>2007</th>\n",
       "      <th>2008</th>\n",
       "      <th>2009</th>\n",
       "      <th>2010</th>\n",
       "      <th>2011</th>\n",
       "      <th>2012</th>\n",
       "      <th>2013</th>\n",
       "      <th>2014</th>\n",
       "      <th>2015</th>\n",
       "      <th>2016</th>\n",
       "      <th>2017</th>\n",
       "      <th>2018</th>\n",
       "      <th>2019</th>\n",
       "      <th>value_count</th>\n",
       "    </tr>\n",
       "  </thead>\n",
       "  <tbody>\n",
       "    <tr>\n",
       "      <th>78</th>\n",
       "      <td>Guam</td>\n",
       "      <td>NaN</td>\n",
       "      <td>NaN</td>\n",
       "      <td>NaN</td>\n",
       "      <td>NaN</td>\n",
       "      <td>NaN</td>\n",
       "      <td>NaN</td>\n",
       "      <td>NaN</td>\n",
       "      <td>NaN</td>\n",
       "      <td>NaN</td>\n",
       "      <td>NaN</td>\n",
       "      <td>NaN</td>\n",
       "      <td>NaN</td>\n",
       "      <td>NaN</td>\n",
       "      <td>13</td>\n",
       "    </tr>\n",
       "    <tr>\n",
       "      <th>206</th>\n",
       "      <td>Virgin Islands (U.S.)</td>\n",
       "      <td>NaN</td>\n",
       "      <td>NaN</td>\n",
       "      <td>NaN</td>\n",
       "      <td>NaN</td>\n",
       "      <td>NaN</td>\n",
       "      <td>NaN</td>\n",
       "      <td>NaN</td>\n",
       "      <td>NaN</td>\n",
       "      <td>NaN</td>\n",
       "      <td>NaN</td>\n",
       "      <td>NaN</td>\n",
       "      <td>NaN</td>\n",
       "      <td>NaN</td>\n",
       "      <td>13</td>\n",
       "    </tr>\n",
       "    <tr>\n",
       "      <th>130</th>\n",
       "      <td>Northern Mariana Islands</td>\n",
       "      <td>NaN</td>\n",
       "      <td>NaN</td>\n",
       "      <td>NaN</td>\n",
       "      <td>NaN</td>\n",
       "      <td>NaN</td>\n",
       "      <td>NaN</td>\n",
       "      <td>NaN</td>\n",
       "      <td>NaN</td>\n",
       "      <td>NaN</td>\n",
       "      <td>NaN</td>\n",
       "      <td>NaN</td>\n",
       "      <td>NaN</td>\n",
       "      <td>NaN</td>\n",
       "      <td>13</td>\n",
       "    </tr>\n",
       "    <tr>\n",
       "      <th>185</th>\n",
       "      <td>Turks and Caicos Islands</td>\n",
       "      <td>NaN</td>\n",
       "      <td>NaN</td>\n",
       "      <td>NaN</td>\n",
       "      <td>NaN</td>\n",
       "      <td>NaN</td>\n",
       "      <td>NaN</td>\n",
       "      <td>NaN</td>\n",
       "      <td>NaN</td>\n",
       "      <td>NaN</td>\n",
       "      <td>NaN</td>\n",
       "      <td>NaN</td>\n",
       "      <td>NaN</td>\n",
       "      <td>NaN</td>\n",
       "      <td>13</td>\n",
       "    </tr>\n",
       "    <tr>\n",
       "      <th>8</th>\n",
       "      <td>American Samoa</td>\n",
       "      <td>NaN</td>\n",
       "      <td>NaN</td>\n",
       "      <td>NaN</td>\n",
       "      <td>NaN</td>\n",
       "      <td>NaN</td>\n",
       "      <td>NaN</td>\n",
       "      <td>NaN</td>\n",
       "      <td>NaN</td>\n",
       "      <td>NaN</td>\n",
       "      <td>NaN</td>\n",
       "      <td>NaN</td>\n",
       "      <td>NaN</td>\n",
       "      <td>NaN</td>\n",
       "      <td>13</td>\n",
       "    </tr>\n",
       "  </tbody>\n",
       "</table>\n",
       "</div>"
      ],
      "text/plain": [
       "                      country  2007  2008  2009  2010  2011  2012  2013  2014  \\\n",
       "78                       Guam   NaN   NaN   NaN   NaN   NaN   NaN   NaN   NaN   \n",
       "206     Virgin Islands (U.S.)   NaN   NaN   NaN   NaN   NaN   NaN   NaN   NaN   \n",
       "130  Northern Mariana Islands   NaN   NaN   NaN   NaN   NaN   NaN   NaN   NaN   \n",
       "185  Turks and Caicos Islands   NaN   NaN   NaN   NaN   NaN   NaN   NaN   NaN   \n",
       "8              American Samoa   NaN   NaN   NaN   NaN   NaN   NaN   NaN   NaN   \n",
       "\n",
       "     2015  2016  2017  2018  2019  value_count  \n",
       "78    NaN   NaN   NaN   NaN   NaN           13  \n",
       "206   NaN   NaN   NaN   NaN   NaN           13  \n",
       "130   NaN   NaN   NaN   NaN   NaN           13  \n",
       "185   NaN   NaN   NaN   NaN   NaN           13  \n",
       "8     NaN   NaN   NaN   NaN   NaN           13  "
      ]
     },
     "execution_count": 72,
     "metadata": {},
     "output_type": "execute_result"
    }
   ],
   "source": [
    "#countt the number of null values in each row\n",
    "value_count = phone_df.isnull().sum(axis=1)\n",
    "#add this column to the dataset and sort so the countries with the most missing data are at the top\n",
    "phone_df_null_count = phone_df.assign(value_count=value_count.values).sort_values(by=['value_count'],ascending=False)\n",
    "\n",
    "#take a look at a sample of this data\n",
    "phone_df_null_count.head()"
   ]
  },
  {
   "cell_type": "markdown",
   "metadata": {},
   "source": [
    ">These countries don't have any data at all. So like we did with the other data set, let's remove countries with any more than just a couple values missing."
   ]
  },
  {
   "cell_type": "code",
   "execution_count": 73,
   "metadata": {},
   "outputs": [
    {
     "data": {
      "text/html": [
       "<div>\n",
       "<style scoped>\n",
       "    .dataframe tbody tr th:only-of-type {\n",
       "        vertical-align: middle;\n",
       "    }\n",
       "\n",
       "    .dataframe tbody tr th {\n",
       "        vertical-align: top;\n",
       "    }\n",
       "\n",
       "    .dataframe thead th {\n",
       "        text-align: right;\n",
       "    }\n",
       "</style>\n",
       "<table border=\"1\" class=\"dataframe\">\n",
       "  <thead>\n",
       "    <tr style=\"text-align: right;\">\n",
       "      <th></th>\n",
       "      <th>country</th>\n",
       "      <th>2007</th>\n",
       "      <th>2008</th>\n",
       "      <th>2009</th>\n",
       "      <th>2010</th>\n",
       "      <th>2011</th>\n",
       "      <th>2012</th>\n",
       "      <th>2013</th>\n",
       "      <th>2014</th>\n",
       "      <th>2015</th>\n",
       "      <th>2016</th>\n",
       "      <th>2017</th>\n",
       "      <th>2018</th>\n",
       "      <th>2019</th>\n",
       "    </tr>\n",
       "  </thead>\n",
       "  <tbody>\n",
       "    <tr>\n",
       "      <th>1</th>\n",
       "      <td>Afghanistan</td>\n",
       "      <td>17.2</td>\n",
       "      <td>28.5</td>\n",
       "      <td>37.0</td>\n",
       "      <td>35.0</td>\n",
       "      <td>45.8</td>\n",
       "      <td>49.2</td>\n",
       "      <td>52.1</td>\n",
       "      <td>55.2</td>\n",
       "      <td>57.3</td>\n",
       "      <td>61.1</td>\n",
       "      <td>65.9</td>\n",
       "      <td>59.1</td>\n",
       "      <td>59.4</td>\n",
       "    </tr>\n",
       "    <tr>\n",
       "      <th>2</th>\n",
       "      <td>Angola</td>\n",
       "      <td>23.7</td>\n",
       "      <td>31.2</td>\n",
       "      <td>36.0</td>\n",
       "      <td>40.3</td>\n",
       "      <td>49.8</td>\n",
       "      <td>50.9</td>\n",
       "      <td>51.1</td>\n",
       "      <td>52.2</td>\n",
       "      <td>49.8</td>\n",
       "      <td>45.1</td>\n",
       "      <td>44.7</td>\n",
       "      <td>43.1</td>\n",
       "      <td>46.6</td>\n",
       "    </tr>\n",
       "    <tr>\n",
       "      <th>3</th>\n",
       "      <td>Albania</td>\n",
       "      <td>76.5</td>\n",
       "      <td>61.9</td>\n",
       "      <td>82.9</td>\n",
       "      <td>91.3</td>\n",
       "      <td>106.0</td>\n",
       "      <td>120.0</td>\n",
       "      <td>127.0</td>\n",
       "      <td>116.0</td>\n",
       "      <td>118.0</td>\n",
       "      <td>117.0</td>\n",
       "      <td>126.0</td>\n",
       "      <td>94.2</td>\n",
       "      <td>91.3</td>\n",
       "    </tr>\n",
       "    <tr>\n",
       "      <th>4</th>\n",
       "      <td>Andorra</td>\n",
       "      <td>76.8</td>\n",
       "      <td>76.6</td>\n",
       "      <td>76.4</td>\n",
       "      <td>77.6</td>\n",
       "      <td>77.7</td>\n",
       "      <td>77.5</td>\n",
       "      <td>79.1</td>\n",
       "      <td>83.6</td>\n",
       "      <td>91.4</td>\n",
       "      <td>98.5</td>\n",
       "      <td>104.0</td>\n",
       "      <td>107.0</td>\n",
       "      <td>114.0</td>\n",
       "    </tr>\n",
       "    <tr>\n",
       "      <th>5</th>\n",
       "      <td>United Arab Emirates</td>\n",
       "      <td>125.0</td>\n",
       "      <td>132.0</td>\n",
       "      <td>135.0</td>\n",
       "      <td>128.0</td>\n",
       "      <td>131.0</td>\n",
       "      <td>151.0</td>\n",
       "      <td>175.0</td>\n",
       "      <td>183.0</td>\n",
       "      <td>194.0</td>\n",
       "      <td>213.0</td>\n",
       "      <td>209.0</td>\n",
       "      <td>209.0</td>\n",
       "      <td>201.0</td>\n",
       "    </tr>\n",
       "  </tbody>\n",
       "</table>\n",
       "</div>"
      ],
      "text/plain": [
       "                country   2007   2008   2009   2010   2011   2012   2013  \\\n",
       "1           Afghanistan   17.2   28.5   37.0   35.0   45.8   49.2   52.1   \n",
       "2                Angola   23.7   31.2   36.0   40.3   49.8   50.9   51.1   \n",
       "3               Albania   76.5   61.9   82.9   91.3  106.0  120.0  127.0   \n",
       "4               Andorra   76.8   76.6   76.4   77.6   77.7   77.5   79.1   \n",
       "5  United Arab Emirates  125.0  132.0  135.0  128.0  131.0  151.0  175.0   \n",
       "\n",
       "    2014   2015   2016   2017   2018   2019  \n",
       "1   55.2   57.3   61.1   65.9   59.1   59.4  \n",
       "2   52.2   49.8   45.1   44.7   43.1   46.6  \n",
       "3  116.0  118.0  117.0  126.0   94.2   91.3  \n",
       "4   83.6   91.4   98.5  104.0  107.0  114.0  \n",
       "5  183.0  194.0  213.0  209.0  209.0  201.0  "
      ]
     },
     "execution_count": 73,
     "metadata": {},
     "output_type": "execute_result"
    }
   ],
   "source": [
    "#remove the rows that dont have at least 12 non null values i.e. only keep the rows that have at most 2 missing values\n",
    "phone_df.dropna(thresh=12,inplace=True)\n",
    "phone_df.head()"
   ]
  },
  {
   "cell_type": "markdown",
   "metadata": {},
   "source": [
    ">Next we will unpivot the dataset so it matches the happiness score data and we can easily combine them into one table."
   ]
  },
  {
   "cell_type": "code",
   "execution_count": 74,
   "metadata": {},
   "outputs": [
    {
     "name": "stdout",
     "output_type": "stream",
     "text": [
      "<class 'pandas.core.frame.DataFrame'>\n",
      "RangeIndex: 2561 entries, 0 to 2560\n",
      "Data columns (total 3 columns):\n",
      "country                  2561 non-null object\n",
      "year                     2561 non-null object\n",
      "phones_per_100_people    2513 non-null float64\n",
      "dtypes: float64(1), object(2)\n",
      "memory usage: 60.1+ KB\n"
     ]
    }
   ],
   "source": [
    "#unpivot the data so the years are in their own column\n",
    "phone_df_v2 = phone_df.melt(id_vars=['country'], var_name='year', value_name='phones_per_100_people')\n",
    "\n",
    "#look at a summary of the new data\n",
    "phone_df_v2.info()"
   ]
  },
  {
   "cell_type": "markdown",
   "metadata": {},
   "source": [
    ">Where we kept countries with a couple of missing data points we will again fill them in with the mean value of that country."
   ]
  },
  {
   "cell_type": "code",
   "execution_count": 75,
   "metadata": {},
   "outputs": [
    {
     "name": "stdout",
     "output_type": "stream",
     "text": [
      "<class 'pandas.core.frame.DataFrame'>\n",
      "RangeIndex: 2561 entries, 0 to 2560\n",
      "Data columns (total 3 columns):\n",
      "country                  2561 non-null object\n",
      "year                     2561 non-null object\n",
      "phones_per_100_people    2561 non-null float64\n",
      "dtypes: float64(1), object(2)\n",
      "memory usage: 60.1+ KB\n"
     ]
    }
   ],
   "source": [
    "#fill in any missing data with the mean value for that country\n",
    "phone_df_v2['phones_per_100_people'] = phone_df_v2['phones_per_100_people'].fillna(phone_df_v2.groupby('country')['phones_per_100_people'].transform('mean'))\n",
    "\n",
    "#look at a summary of the data\n",
    "phone_df_v2.info()"
   ]
  },
  {
   "cell_type": "markdown",
   "metadata": {},
   "source": [
    ">Lastly, like we did for the previous dataset, we will convert the year to an int."
   ]
  },
  {
   "cell_type": "code",
   "execution_count": 76,
   "metadata": {},
   "outputs": [],
   "source": [
    "#change the type of the year to an int\n",
    "phone_df_v2['year']=phone_df_v2['year'].astype(int)"
   ]
  },
  {
   "cell_type": "markdown",
   "metadata": {},
   "source": [
    ">The same process was followed to clean the other datasets, which we can now pull in and combine together so we are left with one complete dataset in a dataframe. We can also add in the regions of each country."
   ]
  },
  {
   "cell_type": "code",
   "execution_count": 77,
   "metadata": {},
   "outputs": [],
   "source": [
    "#read all the csv files we want to bring in and create a dataframe for each\n",
    "income_df = pd.read_csv('income_clean_df.csv')\n",
    "life_expectancy_df = pd.read_csv('life_expectancy_clean.csv')\n",
    "women_in_parliment_df = pd.read_csv('women_in_parliment_clean.csv')\n",
    "regions_df = pd.read_csv('Data Geographies - by Gapminder.csv', usecols=['name','four_regions'])\n",
    "#rename the name column in regions_df to country to match the other dataframes\n",
    "regions_df.rename(columns={'name': 'country'},inplace=True)\n"
   ]
  },
  {
   "cell_type": "markdown",
   "metadata": {},
   "source": [
    "**********************************************************************************************************************************************"
   ]
  },
  {
   "cell_type": "code",
   "execution_count": 78,
   "metadata": {},
   "outputs": [
    {
     "data": {
      "text/html": [
       "<div>\n",
       "<style scoped>\n",
       "    .dataframe tbody tr th:only-of-type {\n",
       "        vertical-align: middle;\n",
       "    }\n",
       "\n",
       "    .dataframe tbody tr th {\n",
       "        vertical-align: top;\n",
       "    }\n",
       "\n",
       "    .dataframe thead th {\n",
       "        text-align: right;\n",
       "    }\n",
       "</style>\n",
       "<table border=\"1\" class=\"dataframe\">\n",
       "  <thead>\n",
       "    <tr style=\"text-align: right;\">\n",
       "      <th></th>\n",
       "      <th>country</th>\n",
       "      <th>year</th>\n",
       "      <th>happiness</th>\n",
       "      <th>phones_per_100_people</th>\n",
       "      <th>income</th>\n",
       "      <th>life_expectancy</th>\n",
       "      <th>women_in_parliment</th>\n",
       "      <th>four_regions</th>\n",
       "    </tr>\n",
       "  </thead>\n",
       "  <tbody>\n",
       "    <tr>\n",
       "      <th>0</th>\n",
       "      <td>Afghanistan</td>\n",
       "      <td>2007</td>\n",
       "      <td>36.091667</td>\n",
       "      <td>17.2</td>\n",
       "      <td>1460</td>\n",
       "      <td>58.5</td>\n",
       "      <td>26.6</td>\n",
       "      <td>asia</td>\n",
       "    </tr>\n",
       "    <tr>\n",
       "      <th>1</th>\n",
       "      <td>Albania</td>\n",
       "      <td>2007</td>\n",
       "      <td>46.300000</td>\n",
       "      <td>76.5</td>\n",
       "      <td>9180</td>\n",
       "      <td>77.5</td>\n",
       "      <td>11.8</td>\n",
       "      <td>europe</td>\n",
       "    </tr>\n",
       "    <tr>\n",
       "      <th>2</th>\n",
       "      <td>United Arab Emirates</td>\n",
       "      <td>2007</td>\n",
       "      <td>68.454545</td>\n",
       "      <td>125.0</td>\n",
       "      <td>76.6k</td>\n",
       "      <td>70.0</td>\n",
       "      <td>5.0</td>\n",
       "      <td>asia</td>\n",
       "    </tr>\n",
       "    <tr>\n",
       "      <th>3</th>\n",
       "      <td>Argentina</td>\n",
       "      <td>2007</td>\n",
       "      <td>60.700000</td>\n",
       "      <td>102.0</td>\n",
       "      <td>22.4k</td>\n",
       "      <td>75.3</td>\n",
       "      <td>39.8</td>\n",
       "      <td>americas</td>\n",
       "    </tr>\n",
       "    <tr>\n",
       "      <th>4</th>\n",
       "      <td>Armenia</td>\n",
       "      <td>2007</td>\n",
       "      <td>48.800000</td>\n",
       "      <td>64.0</td>\n",
       "      <td>9710</td>\n",
       "      <td>73.5</td>\n",
       "      <td>9.2</td>\n",
       "      <td>europe</td>\n",
       "    </tr>\n",
       "  </tbody>\n",
       "</table>\n",
       "</div>"
      ],
      "text/plain": [
       "                country  year  happiness  phones_per_100_people income  \\\n",
       "0           Afghanistan  2007  36.091667                   17.2   1460   \n",
       "1               Albania  2007  46.300000                   76.5   9180   \n",
       "2  United Arab Emirates  2007  68.454545                  125.0  76.6k   \n",
       "3             Argentina  2007  60.700000                  102.0  22.4k   \n",
       "4               Armenia  2007  48.800000                   64.0   9710   \n",
       "\n",
       "   life_expectancy  women_in_parliment four_regions  \n",
       "0             58.5                26.6         asia  \n",
       "1             77.5                11.8       europe  \n",
       "2             70.0                 5.0         asia  \n",
       "3             75.3                39.8     americas  \n",
       "4             73.5                 9.2       europe  "
      ]
     },
     "execution_count": 78,
     "metadata": {},
     "output_type": "execute_result"
    }
   ],
   "source": [
    "#define a function that will merge the tables as we want\n",
    "def merge_function(df1, df2):\n",
    "    df_merged = df1.merge(df2, left_on=['country','year'], right_on=['country','year'], how='left')\n",
    "    return df_merged\n",
    "\n",
    "#use that function to combine the data, and also combine the region data\n",
    "df_combined_v1 = merge_function(happiness_df_v2, phone_df_v2)\n",
    "df_combined_v2 = merge_function(df_combined_v1, income_df)\n",
    "df_combined_v3 = merge_function(df_combined_v2, life_expectancy_df)\n",
    "df_combined_v4 = merge_function(df_combined_v3, women_in_parliment_df)\n",
    "df_combined_final = df_combined_v4.merge(regions_df, left_on=['country'], right_on=['country'], how='left')\n",
    "\n",
    "#output a sample of the data\n",
    "df_combined_final.head()"
   ]
  },
  {
   "cell_type": "markdown",
   "metadata": {},
   "source": [
    ">Now our data is all in one set let's have a final check to see if we are ready to start our analysis."
   ]
  },
  {
   "cell_type": "code",
   "execution_count": 79,
   "metadata": {},
   "outputs": [
    {
     "name": "stdout",
     "output_type": "stream",
     "text": [
      "<class 'pandas.core.frame.DataFrame'>\n",
      "Int64Index: 1495 entries, 0 to 1494\n",
      "Data columns (total 8 columns):\n",
      "country                  1495 non-null object\n",
      "year                     1495 non-null int64\n",
      "happiness                1495 non-null float64\n",
      "phones_per_100_people    1482 non-null float64\n",
      "income                   1495 non-null object\n",
      "life_expectancy          1495 non-null float64\n",
      "women_in_parliment       1404 non-null float64\n",
      "four_regions             1495 non-null object\n",
      "dtypes: float64(4), int64(1), object(3)\n",
      "memory usage: 105.1+ KB\n"
     ]
    }
   ],
   "source": [
    "#take a look at a summary of the data\n",
    "df_combined_final.info()"
   ]
  },
  {
   "cell_type": "markdown",
   "metadata": {},
   "source": [
    "> We can see that the data type for income needs addressing because at the moment it's an object rather than a float. We can see from the small section of the data above that this is caused because of numerized data e.g. the income in UAE is recorded as 76.6k rather than 76600. So let's address this."
   ]
  },
  {
   "cell_type": "code",
   "execution_count": 80,
   "metadata": {},
   "outputs": [
    {
     "data": {
      "text/html": [
       "<div>\n",
       "<style scoped>\n",
       "    .dataframe tbody tr th:only-of-type {\n",
       "        vertical-align: middle;\n",
       "    }\n",
       "\n",
       "    .dataframe tbody tr th {\n",
       "        vertical-align: top;\n",
       "    }\n",
       "\n",
       "    .dataframe thead th {\n",
       "        text-align: right;\n",
       "    }\n",
       "</style>\n",
       "<table border=\"1\" class=\"dataframe\">\n",
       "  <thead>\n",
       "    <tr style=\"text-align: right;\">\n",
       "      <th></th>\n",
       "      <th>country</th>\n",
       "      <th>year</th>\n",
       "      <th>happiness</th>\n",
       "      <th>phones_per_100_people</th>\n",
       "      <th>income</th>\n",
       "      <th>life_expectancy</th>\n",
       "      <th>women_in_parliment</th>\n",
       "      <th>four_regions</th>\n",
       "    </tr>\n",
       "  </thead>\n",
       "  <tbody>\n",
       "    <tr>\n",
       "      <th>0</th>\n",
       "      <td>Afghanistan</td>\n",
       "      <td>2007</td>\n",
       "      <td>36.091667</td>\n",
       "      <td>17.2</td>\n",
       "      <td>1460.0</td>\n",
       "      <td>58.5</td>\n",
       "      <td>26.6</td>\n",
       "      <td>asia</td>\n",
       "    </tr>\n",
       "    <tr>\n",
       "      <th>1</th>\n",
       "      <td>Albania</td>\n",
       "      <td>2007</td>\n",
       "      <td>46.300000</td>\n",
       "      <td>76.5</td>\n",
       "      <td>9180.0</td>\n",
       "      <td>77.5</td>\n",
       "      <td>11.8</td>\n",
       "      <td>europe</td>\n",
       "    </tr>\n",
       "    <tr>\n",
       "      <th>2</th>\n",
       "      <td>United Arab Emirates</td>\n",
       "      <td>2007</td>\n",
       "      <td>68.454545</td>\n",
       "      <td>125.0</td>\n",
       "      <td>76600.0</td>\n",
       "      <td>70.0</td>\n",
       "      <td>5.0</td>\n",
       "      <td>asia</td>\n",
       "    </tr>\n",
       "    <tr>\n",
       "      <th>3</th>\n",
       "      <td>Argentina</td>\n",
       "      <td>2007</td>\n",
       "      <td>60.700000</td>\n",
       "      <td>102.0</td>\n",
       "      <td>22400.0</td>\n",
       "      <td>75.3</td>\n",
       "      <td>39.8</td>\n",
       "      <td>americas</td>\n",
       "    </tr>\n",
       "    <tr>\n",
       "      <th>4</th>\n",
       "      <td>Armenia</td>\n",
       "      <td>2007</td>\n",
       "      <td>48.800000</td>\n",
       "      <td>64.0</td>\n",
       "      <td>9710.0</td>\n",
       "      <td>73.5</td>\n",
       "      <td>9.2</td>\n",
       "      <td>europe</td>\n",
       "    </tr>\n",
       "  </tbody>\n",
       "</table>\n",
       "</div>"
      ],
      "text/plain": [
       "                country  year  happiness  phones_per_100_people   income  \\\n",
       "0           Afghanistan  2007  36.091667                   17.2   1460.0   \n",
       "1               Albania  2007  46.300000                   76.5   9180.0   \n",
       "2  United Arab Emirates  2007  68.454545                  125.0  76600.0   \n",
       "3             Argentina  2007  60.700000                  102.0  22400.0   \n",
       "4               Armenia  2007  48.800000                   64.0   9710.0   \n",
       "\n",
       "   life_expectancy  women_in_parliment four_regions  \n",
       "0             58.5                26.6         asia  \n",
       "1             77.5                11.8       europe  \n",
       "2             70.0                 5.0         asia  \n",
       "3             75.3                39.8     americas  \n",
       "4             73.5                 9.2       europe  "
      ]
     },
     "execution_count": 80,
     "metadata": {},
     "output_type": "execute_result"
    }
   ],
   "source": [
    "#change the type of the income column to a float, and everytime a 'k' has been used replace this will *1000 to get the actual number\n",
    "df_combined_final['income'] = df_combined_final['income'].replace({'k': '*1000'}, regex=True).map(pd.eval).astype(float)\n",
    "\n",
    "#look at a summary of the data\n",
    "df_combined_final.head()"
   ]
  },
  {
   "cell_type": "markdown",
   "metadata": {},
   "source": [
    ">We can also see from the information above that there are some countries that have a complete set of happiness scores but do not have the number of phones per 100 people or the percent of women in parliment recorded. For the sake of completeness, let's drop any rows where there is missing data."
   ]
  },
  {
   "cell_type": "code",
   "execution_count": 81,
   "metadata": {},
   "outputs": [
    {
     "name": "stdout",
     "output_type": "stream",
     "text": [
      "<class 'pandas.core.frame.DataFrame'>\n",
      "Int64Index: 1404 entries, 0 to 1494\n",
      "Data columns (total 8 columns):\n",
      "country                  1404 non-null object\n",
      "year                     1404 non-null int64\n",
      "happiness                1404 non-null float64\n",
      "phones_per_100_people    1404 non-null float64\n",
      "income                   1404 non-null float64\n",
      "life_expectancy          1404 non-null float64\n",
      "women_in_parliment       1404 non-null float64\n",
      "four_regions             1404 non-null object\n",
      "dtypes: float64(5), int64(1), object(2)\n",
      "memory usage: 98.7+ KB\n"
     ]
    }
   ],
   "source": [
    "#remove any rows that don't have at least 8 values recorded, i.e. any rows that ahve a null value\n",
    "df_combined_final.dropna(thresh=8,inplace=True)\n",
    "df_combined_final.info()"
   ]
  },
  {
   "cell_type": "markdown",
   "metadata": {},
   "source": [
    ">Our data is complete!"
   ]
  },
  {
   "cell_type": "markdown",
   "metadata": {},
   "source": [
    ">To make coding in the analysis easier let's rename our finished dataframe. Let's also create two data frames that filter out the data for 2009 and 2019 to answer question 3 of our analysis"
   ]
  },
  {
   "cell_type": "code",
   "execution_count": 82,
   "metadata": {},
   "outputs": [],
   "source": [
    "#remane the dataframe\n",
    "df = df_combined_final"
   ]
  },
  {
   "cell_type": "code",
   "execution_count": 83,
   "metadata": {},
   "outputs": [],
   "source": [
    "#create a dataframe with just the 2019 data\n",
    "df_2019 = df.query('year == 2019')"
   ]
  },
  {
   "cell_type": "code",
   "execution_count": 84,
   "metadata": {},
   "outputs": [],
   "source": [
    "#create a dataframe with just the 2009 data\n",
    "df_2009 = df.query('year == 2009')"
   ]
  },
  {
   "cell_type": "markdown",
   "metadata": {},
   "source": [
    "<a id='eda'></a>\n",
    "## Exploratory Data Analysis\n",
    "\n",
    "\n",
    "### How has the average happiness score changed through the years?"
   ]
  },
  {
   "cell_type": "markdown",
   "metadata": {},
   "source": [
    "> Let start by just looking at a histagram for happiness scores in 2009 compared to 2019."
   ]
  },
  {
   "cell_type": "code",
   "execution_count": 85,
   "metadata": {},
   "outputs": [
    {
     "data": {
      "image/png": "[encoded data removed]",
      "text/plain": [
       "<matplotlib.figure.Figure at 0x7f2642c90da0>"
      ]
     },
     "metadata": {
      "needs_background": "light"
     },
     "output_type": "display_data"
    }
   ],
   "source": [
    "#plot a histagram for happiness scores in 2009 and 2019 and add in a legend\n",
    "df_2009['happiness'].hist(alpha=0.5, label='2009')\n",
    "df_2019['happiness'].hist(alpha=0.5, label='2019')\n",
    "plt.legend();"
   ]
  },
  {
   "cell_type": "markdown",
   "metadata": {},
   "source": [
    ">In 2009 there is a discinct peak at 50 to 55 percent happiness scorings. In 2019 the graph becomes more skewed to the right which could indicate people became happier. Let's take a look at a line graph to show ow the average happiness accross the world has changed over time. "
   ]
  },
  {
   "cell_type": "code",
   "execution_count": 86,
   "metadata": {},
   "outputs": [
    {
     "data": {
      "image/png": "[encoded data removed]",
      "text/plain": [
       "<matplotlib.figure.Figure at 0x7f26401ae208>"
      ]
     },
     "metadata": {
      "needs_background": "light"
     },
     "output_type": "display_data"
    }
   ],
   "source": [
    "#plot a line graph by plotting the years along the x axis and the mean of the happiness\n",
    "df.groupby('year').mean().plot(y='happiness', kind = 'line')\n",
    "\n",
    "#give the graph a title and the x and y axis labels\n",
    "plt.title('Average Happiness Score Accross Nations From 2007 to 2019')\n",
    "plt.xlabel('Year')\n",
    "plt.ylabel('Average Happiness Score');"
   ]
  },
  {
   "cell_type": "markdown",
   "metadata": {},
   "source": [
    ">The average happiness score across all countries has jumped around year on year. However since 2016, the happiness score has consistently increased. It could be interesting to break this down further and look at the happiness score year on year for each region of the world."
   ]
  },
  {
   "cell_type": "code",
   "execution_count": 87,
   "metadata": {},
   "outputs": [
    {
     "data": {
      "image/png": "[encoded data removed]",
      "text/plain": [
       "<matplotlib.figure.Figure at 0x7f263fadfc88>"
      ]
     },
     "metadata": {
      "needs_background": "light"
     },
     "output_type": "display_data"
    }
   ],
   "source": [
    "#create a line graph using a for loop to plot a line for each region\n",
    "fig, ax = plt.subplots()\n",
    "\n",
    "for name in ['asia','europe','americas','africa']:\n",
    "    df[df.four_regions==name].groupby('year').mean().plot(y='happiness', kind = 'line', ax=ax,label=name)\n",
    "    #give the graph a title and the x and y axis labels\n",
    "    plt.title('Average Happiness Score Accross Nations in Each Region From 2007 to 2019')\n",
    "    plt.xlabel('Year')\n",
    "    plt.ylabel('Average Happiness Score');\n",
    "    \n"
   ]
  },
  {
   "cell_type": "markdown",
   "metadata": {},
   "source": [
    ">We can see all regions have stayed fairly consistant in their happiness scores across the years. Africa and Asia consistantly score lower than Europe and Americas. Americas and Europe have scored similarly overall however since 2015 Europe's score has been increasing whereas America's score has jumped around."
   ]
  },
  {
   "cell_type": "markdown",
   "metadata": {},
   "source": [
    "## In 2019 there a correlation between a nations happiness score and the other variables we are looking at?"
   ]
  },
  {
   "cell_type": "markdown",
   "metadata": {},
   "source": [
    ">To anser this question it makes sense to plot some scatter plots comparing happiness to the other variables."
   ]
  },
  {
   "cell_type": "code",
   "execution_count": 88,
   "metadata": {},
   "outputs": [
    {
     "data": {
      "image/png": "[encoded data removed]",
      "text/plain": [
       "<matplotlib.figure.Figure at 0x7f263fabbac8>"
      ]
     },
     "metadata": {
      "needs_background": "light"
     },
     "output_type": "display_data"
    },
    {
     "data": {
      "image/png": "[encoded data removed]",
      "text/plain": [
       "<matplotlib.figure.Figure at 0x7f263f9d88d0>"
      ]
     },
     "metadata": {
      "needs_background": "light"
     },
     "output_type": "display_data"
    },
    {
     "data": {
      "image/png": "[encoded data removed]",
      "text/plain": [
       "<matplotlib.figure.Figure at 0x7f263f9a0780>"
      ]
     },
     "metadata": {
      "needs_background": "light"
     },
     "output_type": "display_data"
    },
    {
     "data": {
      "image/png": "[encoded data removed]",
      "text/plain": [
       "<matplotlib.figure.Figure at 0x7f2653154908>"
      ]
     },
     "metadata": {
      "needs_background": "light"
     },
     "output_type": "display_data"
    }
   ],
   "source": [
    "#create a function to create a scatter graph where the inputs are the variable being compared to happiness, the title of the graph and the label on the y axis\n",
    "\n",
    "def graph_plot_function(variable,title_end, y_label):\n",
    "    df_2019.plot(x='happiness', y=variable,kind='scatter');\n",
    "    plt.title('Scatter graph showing the correlation between happiness scores and {}'.format(title_end))\n",
    "    plt.xlabel('Happiness Score')\n",
    "    plt.ylabel(y_label)\n",
    "    \n",
    "\n",
    "graph_plot_function('phones_per_100_people','the number of phones per 100 people', 'Phones per 100 People')\n",
    "graph_plot_function('income','income per person', 'Income Per Person')\n",
    "graph_plot_function('life_expectancy','life expectancy', 'Life Expectancy')\n",
    "graph_plot_function('women_in_parliment','the percentage of women in parliment', 'Percent of Women in Parliment')"
   ]
  },
  {
   "cell_type": "markdown",
   "metadata": {},
   "source": [
    ">There seems to be a positive correlation between all our variables and the happiness of the countries. Income seems to show the strongest correlation with happiness, with a few outliers. Life expectancy has a fairly strong correlation with happiness. While percent of women in parliment and phones per 100 people show a positive correlation, it's not a stong one, both showing quite a few outliers."
   ]
  },
  {
   "cell_type": "markdown",
   "metadata": {},
   "source": [
    "### Comparing the most recent data to 10 years ago, which countries happiness have improved the most and least?"
   ]
  },
  {
   "cell_type": "markdown",
   "metadata": {},
   "source": [
    ">We already have a dataframe with data from 2009 and one one from 2019. But to see the increase or decrease in happiness scores we need to merge these dataframes together."
   ]
  },
  {
   "cell_type": "code",
   "execution_count": 89,
   "metadata": {},
   "outputs": [
    {
     "data": {
      "text/html": [
       "<div>\n",
       "<style scoped>\n",
       "    .dataframe tbody tr th:only-of-type {\n",
       "        vertical-align: middle;\n",
       "    }\n",
       "\n",
       "    .dataframe tbody tr th {\n",
       "        vertical-align: top;\n",
       "    }\n",
       "\n",
       "    .dataframe thead th {\n",
       "        text-align: right;\n",
       "    }\n",
       "</style>\n",
       "<table border=\"1\" class=\"dataframe\">\n",
       "  <thead>\n",
       "    <tr style=\"text-align: right;\">\n",
       "      <th></th>\n",
       "      <th>country</th>\n",
       "      <th>happiness_x</th>\n",
       "      <th>happiness_y</th>\n",
       "    </tr>\n",
       "  </thead>\n",
       "  <tbody>\n",
       "    <tr>\n",
       "      <th>0</th>\n",
       "      <td>Afghanistan</td>\n",
       "      <td>44.0</td>\n",
       "      <td>25.7</td>\n",
       "    </tr>\n",
       "    <tr>\n",
       "      <th>1</th>\n",
       "      <td>Albania</td>\n",
       "      <td>54.9</td>\n",
       "      <td>48.8</td>\n",
       "    </tr>\n",
       "    <tr>\n",
       "      <th>2</th>\n",
       "      <td>United Arab Emirates</td>\n",
       "      <td>68.7</td>\n",
       "      <td>67.9</td>\n",
       "    </tr>\n",
       "    <tr>\n",
       "      <th>3</th>\n",
       "      <td>Argentina</td>\n",
       "      <td>64.2</td>\n",
       "      <td>59.7</td>\n",
       "    </tr>\n",
       "    <tr>\n",
       "      <th>4</th>\n",
       "      <td>Armenia</td>\n",
       "      <td>41.8</td>\n",
       "      <td>46.8</td>\n",
       "    </tr>\n",
       "  </tbody>\n",
       "</table>\n",
       "</div>"
      ],
      "text/plain": [
       "                country  happiness_x  happiness_y\n",
       "0           Afghanistan         44.0         25.7\n",
       "1               Albania         54.9         48.8\n",
       "2  United Arab Emirates         68.7         67.9\n",
       "3             Argentina         64.2         59.7\n",
       "4               Armenia         41.8         46.8"
      ]
     },
     "execution_count": 89,
     "metadata": {},
     "output_type": "execute_result"
    }
   ],
   "source": [
    "#merge the dataframes with teh 2019 data and the 2009 data so we have one dataframe with the years we are interested in\n",
    "df_2009_2019 = pd.merge(df_2009[['country','happiness']],df_2019[['country','happiness']], left_on=['country'], right_on=['country'], how='left')\n",
    "\n",
    "#look at a sample of that data\n",
    "df_2009_2019.head()"
   ]
  },
  {
   "cell_type": "markdown",
   "metadata": {},
   "source": [
    ">Next we need to rename happiness_x and happiness_y with more meaningful labels. We will then add in a new column that shows the change from 2009 to 2019 for each country, calling this happiness_change. Finally, so we can use idxmax() and idxmim(), we will make the country the index column."
   ]
  },
  {
   "cell_type": "code",
   "execution_count": 90,
   "metadata": {},
   "outputs": [
    {
     "data": {
      "text/html": [
       "<div>\n",
       "<style scoped>\n",
       "    .dataframe tbody tr th:only-of-type {\n",
       "        vertical-align: middle;\n",
       "    }\n",
       "\n",
       "    .dataframe tbody tr th {\n",
       "        vertical-align: top;\n",
       "    }\n",
       "\n",
       "    .dataframe thead th {\n",
       "        text-align: right;\n",
       "    }\n",
       "</style>\n",
       "<table border=\"1\" class=\"dataframe\">\n",
       "  <thead>\n",
       "    <tr style=\"text-align: right;\">\n",
       "      <th></th>\n",
       "      <th>happiness_2009</th>\n",
       "      <th>happiness_2019</th>\n",
       "      <th>happiness_change</th>\n",
       "    </tr>\n",
       "    <tr>\n",
       "      <th>country</th>\n",
       "      <th></th>\n",
       "      <th></th>\n",
       "      <th></th>\n",
       "    </tr>\n",
       "  </thead>\n",
       "  <tbody>\n",
       "    <tr>\n",
       "      <th>Afghanistan</th>\n",
       "      <td>44.0</td>\n",
       "      <td>25.7</td>\n",
       "      <td>-18.3</td>\n",
       "    </tr>\n",
       "    <tr>\n",
       "      <th>Albania</th>\n",
       "      <td>54.9</td>\n",
       "      <td>48.8</td>\n",
       "      <td>-6.1</td>\n",
       "    </tr>\n",
       "    <tr>\n",
       "      <th>United Arab Emirates</th>\n",
       "      <td>68.7</td>\n",
       "      <td>67.9</td>\n",
       "      <td>-0.8</td>\n",
       "    </tr>\n",
       "    <tr>\n",
       "      <th>Argentina</th>\n",
       "      <td>64.2</td>\n",
       "      <td>59.7</td>\n",
       "      <td>-4.5</td>\n",
       "    </tr>\n",
       "    <tr>\n",
       "      <th>Armenia</th>\n",
       "      <td>41.8</td>\n",
       "      <td>46.8</td>\n",
       "      <td>5.0</td>\n",
       "    </tr>\n",
       "  </tbody>\n",
       "</table>\n",
       "</div>"
      ],
      "text/plain": [
       "                      happiness_2009  happiness_2019  happiness_change\n",
       "country                                                               \n",
       "Afghanistan                     44.0            25.7             -18.3\n",
       "Albania                         54.9            48.8              -6.1\n",
       "United Arab Emirates            68.7            67.9              -0.8\n",
       "Argentina                       64.2            59.7              -4.5\n",
       "Armenia                         41.8            46.8               5.0"
      ]
     },
     "execution_count": 90,
     "metadata": {},
     "output_type": "execute_result"
    }
   ],
   "source": [
    "#rename the columns to something more meaningful\n",
    "df_2009_2019=df_2009_2019.rename(columns={'happiness_x':'happiness_2009','happiness_y':'happiness_2019'})\n",
    "#create a new column with the difference between happiness scores in 2009 and 2019\n",
    "df_2009_2019['happiness_change']=df_2009_2019['happiness_2019']-df_2009_2019['happiness_2009']\n",
    "#make the country column the index\n",
    "df_2009_2019.set_index('country',inplace=True)\n",
    "\n",
    "#take a look at a sample of the data\n",
    "df_2009_2019.head()\n"
   ]
  },
  {
   "cell_type": "markdown",
   "metadata": {},
   "source": [
    ">Now we have the data in the correct format, let's see which countries experienced the biggest increase and biggest decrease in happiness scores. "
   ]
  },
  {
   "cell_type": "code",
   "execution_count": 91,
   "metadata": {},
   "outputs": [
    {
     "name": "stdout",
     "output_type": "stream",
     "text": [
      "Serbia had the biggest increase in happiness scoring, with an increase of 14.0.\n"
     ]
    }
   ],
   "source": [
    "#use idmax to to calculate the country with the biggest increase in happiness\n",
    "biggest_increase = df_2009_2019.happiness_change.idxmax()\n",
    "#calculate what the  increase was\n",
    "increase=df_2009_2019['happiness_change'].max()\n",
    "\n",
    "#output an explaination of the data above in a readable format\n",
    "print('{} had the biggest increase in happiness scoring, with an increase of {}.'.format(biggest_increase,increase))"
   ]
  },
  {
   "cell_type": "code",
   "execution_count": 92,
   "metadata": {},
   "outputs": [
    {
     "name": "stdout",
     "output_type": "stream",
     "text": [
      "Venezuela had the lowest increase in happiness scoring, with a decrease of -21.400000000000006.\n"
     ]
    }
   ],
   "source": [
    "#use idmin to to calculate the country with the biggest increase in happiness\n",
    "least_increase = df_2009_2019.happiness_change.idxmin()\n",
    "#calculate what the decrease was\n",
    "decrease=df_2009_2019['happiness_change'].min()\n",
    "\n",
    "#output an explaination of the data above in a readable format\n",
    "print('{} had the lowest increase in happiness scoring, with a decrease of {}.'.format(least_increase,decrease))"
   ]
  },
  {
   "cell_type": "markdown",
   "metadata": {},
   "source": [
    ">Serbia had the biggest increase and Venezuela had the biggest decrease in happiness scoring. It might be interesting to plot these on a line graph to see how each countries scoring has changed over time."
   ]
  },
  {
   "cell_type": "code",
   "execution_count": 93,
   "metadata": {},
   "outputs": [
    {
     "data": {
      "image/png": "[encoded data removed]",
      "text/plain": [
       "<matplotlib.figure.Figure at 0x7f263fb74e80>"
      ]
     },
     "metadata": {
      "needs_background": "light"
     },
     "output_type": "display_data"
    }
   ],
   "source": [
    "#create a line graph using a for loop to plot a line for the countries we are interested in\n",
    "fig, ax = plt.subplots()\n",
    "\n",
    "for name in ['Serbia','Venezuela']:\n",
    "    df[df.country==name].groupby('year').mean().plot(y='happiness', kind = 'line', ax=ax,label=name)\n",
    "    #give the graph a title and the x and y axis labels\n",
    "    plt.title('Happiness Scores in Serbia and Venezuela 2007 to 2019')\n",
    "    plt.xlabel('Year')\n",
    "    plt.ylabel('Average Happiness Score');"
   ]
  },
  {
   "cell_type": "markdown",
   "metadata": {},
   "source": [
    ">We can see that Venezuela experienced a big decrease in happiness between 2012 and 2016 whereas Serbia experiences a steady increase between 2009 and 2016."
   ]
  },
  {
   "cell_type": "markdown",
   "metadata": {},
   "source": [
    "<a id='conclusions'></a>\n",
    "## Conclusions\n",
    "\n",
    "### Results\n",
    "\n",
    ">In conclusion, on average accross the world, since 2016 there has been an increase in happiness. However before then the average happiness has jumped around. A larger range of years in our data set would help to see if there have previously been any trends in happiness and if moving forward happiness scorings continue to rise. There is a clear difference in happiness scoring between regions of the world, with Africa consistantly scoring lower than other regions. We could have broken this down further to see if there were any trends between smaller regions of the world. \n",
    "\n",
    ">There was a positive correlation between all our variables and the happiness of the countries. With income and life expectancy showing the strongest correlation and women in parliment and phones per 100 people showing a weaker correlation. We could have calaculated the correlation coefficients to more accurately see how strong the relationship was between variables.\n",
    "\n",
    ">Serbia had the biggest increase in happiness scoring, with an increase of 14.0 and Venezuela had the biggest decrease in happiness scoring, with a decrease of -21.4. However we did drop data from quite a few countries when creating our dataframe so we could have missed off a country that had a bigger change in happiness. Rather than dropping countries from the data set that had missing data we could have done more to calculate an approximate for the value.\n",
    "\n",
    "### Limitations\n",
    ">We only had data from 2007 to 2019, data that goes further back in history would have helped to spot and longer term trends.\n",
    "\n",
    ">We only had four regions we could investicate, more regions could have been used to see if there were any trends in different parts of the world.\n",
    "\n",
    ">Instead of dropping any missing data we could have done more to calculate an apporximate for the value.\n",
    "\n",
    ">Where we filled in missing values with mean of the value for that country, we could have used other variables to calculate a better estimate.\n"
   ]
  },
  {
   "cell_type": "code",
   "execution_count": 95,
   "metadata": {},
   "outputs": [
    {
     "data": {
      "text/plain": [
       "0"
      ]
     },
     "execution_count": 95,
     "metadata": {},
     "output_type": "execute_result"
    }
   ],
   "source": [
    "from subprocess import call\n",
    "call(['python', '-m', 'nbconvert', 'Investigate_a_Dataset.ipynb'])"
   ]
  },
  {
   "cell_type": "code",
   "execution_count": null,
   "metadata": {},
   "outputs": [],
   "source": []
  }
 ],
 "metadata": {
  "kernelspec": {
   "display_name": "Python 3",
   "language": "python",
   "name": "python3"
  },
  "language_info": {
   "codemirror_mode": {
    "name": "ipython",
    "version": 3
   },
   "file_extension": ".py",
   "mimetype": "text/x-python",
   "name": "python",
   "nbconvert_exporter": "python",
   "pygments_lexer": "ipython3",
   "version": "3.6.3"
  }
 },
 "nbformat": 4,
 "nbformat_minor": 2
}
